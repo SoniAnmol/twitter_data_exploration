{
 "cells": [
  {
   "cell_type": "markdown",
   "metadata": {
    "pycharm": {
     "name": "#%% md\n"
    }
   },
   "source": [
    "# Keywords Analysis\n",
    "This notebook analyses the keywords used to scrape the tweets to identify the most relevant keywords for a given event.\n",
    "The keywords are tweets are analysed for following aspects.\n",
    "- [x] Most frequent keywords in the sample tweets.\n",
    "- [x] Context and Time relevance of a keyword.\n",
    "- [x] Language used in the tweets downloaded.\n",
    "- [x] Ratio of verified vs non-verified users using a keyword.\n",
    "- [x] Most interacted tweets.\n",
    "- [x] Identify the hashtags used by relevant context annotations\n",
    "- [ ] Geographical distribution of the location of tweets using most frequent keywords."
   ]
  },
  {
   "cell_type": "code",
   "execution_count": 1,
   "metadata": {
    "pycharm": {
     "name": "#%%\n"
    }
   },
   "outputs": [],
   "source": [
    "# import libraries\n",
    "import json\n",
    "import re\n",
    "from operator import itemgetter\n",
    "from tqdm import tqdm\n",
    "\n",
    "import pandas as pd\n",
    "import matplotlib.pyplot as plt\n",
    "import plotly.express as px\n",
    "import plotly.graph_objects as go\n",
    "from wordcloud import WordCloud, STOPWORDS, ImageColorGenerator\n",
    "from collections import Counter\n",
    "from langcodes import *"
   ]
  },
  {
   "cell_type": "code",
   "execution_count": 2,
   "metadata": {
    "pycharm": {
     "name": "#%%\n"
    }
   },
   "outputs": [],
   "source": [
    "def plot_verified_proportion(df, column_name, row, col, keywords, export=False, location=''):\n",
    "    \"\"\"Plots proportion of verified useres using the keyword\"\"\"\n",
    "    fig, axs = plt.subplots(row, col, figsize=(10, 5))\n",
    "\n",
    "    axis = [[i, j] for j in range(col) for i in range(row)]\n",
    "\n",
    "    for i in range(len(keywords)):\n",
    "        data = df.loc[df[column_name].str.contains(keywords[i], case=False), 'verified'].value_counts()\n",
    "        axs[axis[i][0], axis[i][1]].pie(data, labels=data.index, autopct='%.0f%%', shadow=True,\n",
    "                                        textprops={'size': 'smaller'}, )\n",
    "        axs[axis[i][0], axis[i][1]].set_title(keywords[i][:15])\n",
    "    plt.suptitle(f'verified user proportion based on {column_name}'.upper())\n",
    "    plt.tight_layout()\n",
    "    if export:\n",
    "        plt.savefig(f'{location}_{column_name}_verified.png', bbox_inches='tight', dpi=300)\n",
    "    plt.show()"
   ]
  },
  {
   "cell_type": "code",
   "execution_count": 3,
   "metadata": {
    "pycharm": {
     "name": "#%%\n"
    }
   },
   "outputs": [],
   "source": [
    "def plot_timeseries(df, keywords, column_name, export=False, location=''):\n",
    "    \"\"\"Plots a timeseries plot of tweets based on the frequency of keywords provided\"\"\"\n",
    "\n",
    "    keywords = list(keywords.keys())\n",
    "\n",
    "    df['created_at'] = pd.to_datetime(df['created_at'])\n",
    "\n",
    "    fig = go.Figure()\n",
    "\n",
    "    for keyword in keywords:\n",
    "        data = df.loc[df[column_name].str.contains(keyword, case=False), ['created_at', 'hashtags',\n",
    "                                                                          'context_annotations']].resample('W',\n",
    "                                                                                                           on='created_at')[\n",
    "            column_name].count()\n",
    "        fig.add_trace(go.Bar(x=data.index,\n",
    "                             y=data.values,\n",
    "                             name=keyword,\n",
    "                             ))\n",
    "\n",
    "    fig.update_layout(\n",
    "        title=column_name.upper(),\n",
    "        xaxis_tickfont_size=14,\n",
    "        yaxis=dict(\n",
    "            title='tweets count',\n",
    "            titlefont_size=16,\n",
    "            tickfont_size=14,\n",
    "        ),\n",
    "        legend=dict(\n",
    "            x=1.0,\n",
    "            y=1.0,\n",
    "            bgcolor='rgba(255, 255, 255, 0)',\n",
    "            bordercolor='rgba(255, 255, 255, 0)'\n",
    "        ),\n",
    "        barmode='stack',\n",
    "        hovermode=\"x\")\n",
    "\n",
    "    if export:\n",
    "        fig.write_html(f\"{location}_{column_name}.html\")\n",
    "    fig.show()"
   ]
  },
  {
   "cell_type": "code",
   "execution_count": 4,
   "metadata": {
    "pycharm": {
     "name": "#%%\n"
    }
   },
   "outputs": [],
   "source": [
    "def plot_wordcloud(df, column_name, max_words=50, stop_words=[], collocations=False):\n",
    "    \"\"\"This function generates a wordcloud for given column name\"\"\"\n",
    "\n",
    "    df.loc[df.loc[:, column_name] == False, 'context_annotations'] = ''\n",
    "\n",
    "    text = \",\".join(hashtag for hashtag in df[column_name])\n",
    "    text = text.lower()\n",
    "\n",
    "    # Create stopword list:\n",
    "    stopwords = set(STOPWORDS)\n",
    "    stopwords.update(stop_words)\n",
    "\n",
    "    # Generate a word cloud image\n",
    "    wordcloud = WordCloud(stopwords=stopwords, background_color=\"white\", collocations=collocations,\n",
    "                          max_words=max_words).generate(text)\n",
    "\n",
    "    # Display the generated image:\n",
    "    # the matplotlib way:\n",
    "    plt.imshow(wordcloud, interpolation='bilinear')\n",
    "    plt.axis(\"off\")\n",
    "    plt.savefig(f'{location}_{column_name}_wordcloud.png', bbox_inches='tight', dpi=300)\n",
    "    plt.show()"
   ]
  },
  {
   "cell_type": "code",
   "execution_count": 5,
   "metadata": {
    "pycharm": {
     "name": "#%%\n"
    }
   },
   "outputs": [],
   "source": [
    "def plot_language_chart(df, n_lang=None, export=False, location=''):\n",
    "    \"\"\"Plots a pie chart of languages used in the twitter data set\"\"\"\n",
    "    lang = tweets['lang'].value_counts()\n",
    "    if n_lang is None:\n",
    "        n_lang = len(lang)\n",
    "    lang = lang[:n_lang]\n",
    "    # Change language code to language name\n",
    "    lang.index = [Language.make(language=standardize_tag(l)).display_name() for l in lang.index]\n",
    "\n",
    "    fig = px.pie(lang, values=lang.values, names=lang.index)\n",
    "    fig.update_traces(textposition='inside')\n",
    "    fig.update_layout(title='language of tweets downloaded'.upper(), uniformtext_minsize=12, uniformtext_mode='hide',\n",
    "                      hovermode='x')\n",
    "    fig.add_annotation(\n",
    "        text=\"Note- qht: Tweets with hashtags only | qam: Tweets with mentions only | qme: Tweets with media links\",\n",
    "        xref=\"x domain\", yref=\"y domain\",\n",
    "        x=0.0, y=-0.2, showarrow=False)\n",
    "\n",
    "    if export:\n",
    "        fig.write_html(f\"{location}_languages.html\")\n",
    "    fig.show()"
   ]
  },
  {
   "cell_type": "code",
   "execution_count": 6,
   "metadata": {
    "pycharm": {
     "name": "#%%\n"
    }
   },
   "outputs": [],
   "source": [
    "def get_top_tweets(df):\n",
    "    \"\"\"Prints top tweets in the data set\"\"\"\n",
    "    columns = ['retweet_count', 'reply_count', 'like_count', 'quote_count', 'impression_count',]\n",
    "    d = {}\n",
    "    for col in columns:\n",
    "        d[col] = df.sort_values(by=col, ascending=False)[['text', col, 'username']][:1]\n",
    "\n",
    "    print(\n",
    "        f\"Following is the most retweeted tweet authored by {d['retweet_count']['username'].item()} with retweet count of {d['retweet_count']['retweet_count'].item()}\\n {d['retweet_count']['text'].item()}\")\n",
    "\n",
    "    print(\n",
    "        f\"\\n\\n Following is the most liked tweet authored by {d['like_count']['username'].item()} with retweet count of {d['like_count']['like_count'].item()}\\n {d['like_count']['text'].item()}\")\n",
    "\n",
    "    print(\n",
    "        f\"\\n\\n Following is the most replied tweet authored by {d['reply_count']['username'].item()} with retweet count of {d['reply_count']['reply_count'].item()}\\n {d['reply_count']['text'].item()}\")\n",
    "\n",
    "    print(\n",
    "        f\"\\n\\n Following is the most quoted tweet authored by {d['quote_count']['username'].item()} with retweet count of {d['quote_count']['quote_count'].item()}\\n {d['quote_count']['text'].item()}\")\n",
    "\n",
    "    print(\n",
    "        f\"\\n\\n Following is the tweet with most impressions authored by {d['impression_count']['username'].item()} with retweet count of {d['impression_count']['impression_count'].item()}\\n {d['impression_count']['text'].item()}\")"
   ]
  },
  {
   "cell_type": "code",
   "execution_count": 7,
   "metadata": {
    "pycharm": {
     "name": "#%%\n"
    }
   },
   "outputs": [],
   "source": [
    "def get_relevant_hashtags(df, relevant_context):\n",
    "    \"\"\"Plots and prints hashtags used in the listed relevant contexts\"\"\"\n",
    "    # Identify the hashtags used by these contexts\n",
    "    relevant_hashtags = []\n",
    "    for context in relevant_context:\n",
    "            data = list(df.loc[df['context_annotations'].str.contains(context, case=False), 'hashtags'])\n",
    "            relevant_hashtags.append(data)\n",
    "\n",
    "    relevant_hashtags = ','.join(map(str, relevant_hashtags)).strip(\"[']\").replace(\"'\", \"\").strip(' ').split(',')\n",
    "\n",
    "    relevant_hashtags = list(filter(None, relevant_hashtags))\n",
    "    relevant_hashtags = Counter(relevant_hashtags)\n",
    "\n",
    "    relevant_hashtags = dict(relevant_hashtags.most_common(10))\n",
    "\n",
    "    print(f\"{relevant_hashtags}\\n\\n\\n\")\n",
    "    fig, ax = plt.subplots(1, 1, figsize=(10, 5))\n",
    "    ax.pie(relevant_hashtags.values(), labels=relevant_hashtags.keys(), autopct='%.0f%%', shadow=False,\n",
    "           textprops={'size': 'smaller'}, )\n",
    "    plt.suptitle(f'Hashtags used in tweets having relevant context annotations'.upper())\n",
    "    plt.tight_layout()\n",
    "    plt.savefig(f'{location}_most_relevant_hashtags.png', bbox_inches='tight', dpi=300)\n",
    "    plt.show()"
   ]
  },
  {
   "cell_type": "code",
   "execution_count": 8,
   "metadata": {
    "pycharm": {
     "name": "#%%\n"
    }
   },
   "outputs": [],
   "source": [
    "def get_count(df, column_name):\n",
    "    \"\"\"Returns a counter of hashtags or context annotations in the twitter dataset\"\"\"\n",
    "    # Create a list of hashtags\n",
    "    elements = df[column_name].str.split(',').explode().str.lower().to_list()\n",
    "    # remove white space\n",
    "    elements = [element.strip().lower() for element in elements]\n",
    "    # Remove empty strings\n",
    "    elements = list(filter(None, elements))\n",
    "    # Count the occurrence of hashtags\n",
    "    elements = Counter(elements)\n",
    "    return elements"
   ]
  },
  {
   "cell_type": "code",
   "execution_count": 9,
   "metadata": {
    "pycharm": {
     "name": "#%%\n"
    }
   },
   "outputs": [],
   "source": [
    "def read_json(file_name):\n",
    "    \"\"\"This function reads the json file and returns a pandas DataFrame\"\"\"\n",
    "    # Opening JSON file\n",
    "    file = open(file_name)\n",
    "    # returns JSON object as a dictionary\n",
    "    data = json.load(file)\n",
    "    # Closing files\n",
    "    file.close()\n",
    "    # convert to a pandas DataFrame\n",
    "    data = pd.DataFrame.from_dict(data)\n",
    "    return data"
   ]
  },
  {
   "cell_type": "code",
   "execution_count": 10,
   "metadata": {
    "pycharm": {
     "name": "#%%\n"
    }
   },
   "outputs": [],
   "source": [
    "locations = ['mumbai', 'europe', 'australia', 'northamerica', 'texas']\n",
    "location = 'australia'"
   ]
  },
  {
   "cell_type": "code",
   "execution_count": 11,
   "metadata": {
    "pycharm": {
     "name": "#%%\n"
    }
   },
   "outputs": [],
   "source": [
    "# read data\n",
    "tweets = read_json(f\"../data/sample/cleaned/{location}_tweets.json\")"
   ]
  },
  {
   "cell_type": "markdown",
   "metadata": {
    "pycharm": {
     "name": "#%% md\n"
    }
   },
   "source": [
    "## 1. Most common hashtags and context in the sampled tweets"
   ]
  },
  {
   "cell_type": "code",
   "execution_count": 12,
   "metadata": {
    "pycharm": {
     "name": "#%%\n"
    }
   },
   "outputs": [
    {
     "data": {
      "image/png": "[encoded data removed]",
      "text/plain": [
       "<Figure size 640x480 with 1 Axes>"
      ]
     },
     "metadata": {},
     "output_type": "display_data"
    }
   ],
   "source": [
    "plot_wordcloud(df=tweets, column_name='hashtags', )"
   ]
  },
  {
   "cell_type": "code",
   "execution_count": 13,
   "metadata": {
    "pycharm": {
     "name": "#%%\n"
    }
   },
   "outputs": [
    {
     "data": {
      "text/html": [
       "<div>\n",
       "<style scoped>\n",
       "    .dataframe tbody tr th:only-of-type {\n",
       "        vertical-align: middle;\n",
       "    }\n",
       "\n",
       "    .dataframe tbody tr th {\n",
       "        vertical-align: top;\n",
       "    }\n",
       "\n",
       "    .dataframe thead th {\n",
       "        text-align: right;\n",
       "    }\n",
       "</style>\n",
       "<table border=\"1\" class=\"dataframe\">\n",
       "  <thead>\n",
       "    <tr style=\"text-align: right;\">\n",
       "      <th></th>\n",
       "      <th>lang</th>\n",
       "      <th>text</th>\n",
       "      <th>conversation_id</th>\n",
       "      <th>author_id</th>\n",
       "      <th>possibly_sensitive</th>\n",
       "      <th>id</th>\n",
       "      <th>referenced_tweets</th>\n",
       "      <th>edit_history_tweet_ids</th>\n",
       "      <th>created_at</th>\n",
       "      <th>context_annotations</th>\n",
       "      <th>...</th>\n",
       "      <th>following_count</th>\n",
       "      <th>tweet_count</th>\n",
       "      <th>listed_count</th>\n",
       "      <th>place_id</th>\n",
       "      <th>hashtags</th>\n",
       "      <th>annotations</th>\n",
       "      <th>urls</th>\n",
       "      <th>mentions_ids</th>\n",
       "      <th>mentions_usernames</th>\n",
       "      <th>referenced_type</th>\n",
       "    </tr>\n",
       "  </thead>\n",
       "  <tbody>\n",
       "    <tr>\n",
       "      <th>125</th>\n",
       "      <td>en</td>\n",
       "      <td>RT @froggirl_mariel: Finally some much needed ...</td>\n",
       "      <td>1228277108809461760</td>\n",
       "      <td>51713026</td>\n",
       "      <td>False</td>\n",
       "      <td>1228277108809461760</td>\n",
       "      <td>1228102442652299264</td>\n",
       "      <td>[1228277108809461760]</td>\n",
       "      <td>2020-02-14T11:17:37.000Z</td>\n",
       "      <td>False</td>\n",
       "      <td>...</td>\n",
       "      <td>4999</td>\n",
       "      <td>119043</td>\n",
       "      <td>26</td>\n",
       "      <td>None</td>\n",
       "      <td>rain, australia, frog</td>\n",
       "      <td>australia</td>\n",
       "      <td></td>\n",
       "      <td>3399168254</td>\n",
       "      <td>froggirl_mariel</td>\n",
       "      <td>retweeted</td>\n",
       "    </tr>\n",
       "    <tr>\n",
       "      <th>3100</th>\n",
       "      <td>en</td>\n",
       "      <td>RT @froggirl_mariel: Finally some much needed ...</td>\n",
       "      <td>1228161446816538626</td>\n",
       "      <td>2814360613</td>\n",
       "      <td>False</td>\n",
       "      <td>1228161446816538626</td>\n",
       "      <td>1228102442652299264</td>\n",
       "      <td>[1228161446816538626]</td>\n",
       "      <td>2020-02-14T03:38:01.000Z</td>\n",
       "      <td>False</td>\n",
       "      <td>...</td>\n",
       "      <td>258</td>\n",
       "      <td>3731</td>\n",
       "      <td>29</td>\n",
       "      <td>None</td>\n",
       "      <td>rain, australia, frog</td>\n",
       "      <td>australia</td>\n",
       "      <td></td>\n",
       "      <td>3399168254</td>\n",
       "      <td>froggirl_mariel</td>\n",
       "      <td>retweeted</td>\n",
       "    </tr>\n",
       "    <tr>\n",
       "      <th>3109</th>\n",
       "      <td>en</td>\n",
       "      <td>Finally some much needed #rain in #australia L...</td>\n",
       "      <td>1228102442652299264</td>\n",
       "      <td>3399168254</td>\n",
       "      <td>False</td>\n",
       "      <td>1228102442652299264</td>\n",
       "      <td>{}</td>\n",
       "      <td>[1228102442652299264]</td>\n",
       "      <td>2020-02-13T23:43:34.000Z</td>\n",
       "      <td>Science, Weather</td>\n",
       "      <td>...</td>\n",
       "      <td>938</td>\n",
       "      <td>411</td>\n",
       "      <td>4</td>\n",
       "      <td>None</td>\n",
       "      <td>rain, australia, frog, AustralianBushfire, Cli...</td>\n",
       "      <td>australia, AustralianBushfire, ClimateChange</td>\n",
       "      <td>https://twitter.com/froggirl_mariel/status/122...</td>\n",
       "      <td></td>\n",
       "      <td></td>\n",
       "      <td></td>\n",
       "    </tr>\n",
       "    <tr>\n",
       "      <th>3110</th>\n",
       "      <td>en</td>\n",
       "      <td>A highlight of #FrogIDWeek was hearing #frogs ...</td>\n",
       "      <td>1328108763652374529</td>\n",
       "      <td>3399168254</td>\n",
       "      <td>False</td>\n",
       "      <td>1328108763652374529</td>\n",
       "      <td>{}</td>\n",
       "      <td>[1328108763652374529]</td>\n",
       "      <td>2020-11-15T22:52:58.000Z</td>\n",
       "      <td>Nature, Outdoors</td>\n",
       "      <td>...</td>\n",
       "      <td>938</td>\n",
       "      <td>411</td>\n",
       "      <td>4</td>\n",
       "      <td>None</td>\n",
       "      <td>FrogIDWeek, frogs, AustralianBushfire, wildoz,...</td>\n",
       "      <td>FrogIDWeek, AustralianBushfire, australia</td>\n",
       "      <td>https://twitter.com/froggirl_mariel/status/132...</td>\n",
       "      <td>904933218754879488</td>\n",
       "      <td>FrogIDAus</td>\n",
       "      <td></td>\n",
       "    </tr>\n",
       "    <tr>\n",
       "      <th>3176</th>\n",
       "      <td>en</td>\n",
       "      <td>RT @froggirl_mariel: Finally some much needed ...</td>\n",
       "      <td>1228372354805329921</td>\n",
       "      <td>1025459455930986497</td>\n",
       "      <td>False</td>\n",
       "      <td>1228372354805329921</td>\n",
       "      <td>1228102442652299264</td>\n",
       "      <td>[1228372354805329921]</td>\n",
       "      <td>2020-02-14T17:36:06.000Z</td>\n",
       "      <td>False</td>\n",
       "      <td>...</td>\n",
       "      <td>781</td>\n",
       "      <td>16701</td>\n",
       "      <td>0</td>\n",
       "      <td>None</td>\n",
       "      <td>rain, australia, frog</td>\n",
       "      <td>australia</td>\n",
       "      <td></td>\n",
       "      <td>3399168254</td>\n",
       "      <td>froggirl_mariel</td>\n",
       "      <td>retweeted</td>\n",
       "    </tr>\n",
       "    <tr>\n",
       "      <th>...</th>\n",
       "      <td>...</td>\n",
       "      <td>...</td>\n",
       "      <td>...</td>\n",
       "      <td>...</td>\n",
       "      <td>...</td>\n",
       "      <td>...</td>\n",
       "      <td>...</td>\n",
       "      <td>...</td>\n",
       "      <td>...</td>\n",
       "      <td>...</td>\n",
       "      <td>...</td>\n",
       "      <td>...</td>\n",
       "      <td>...</td>\n",
       "      <td>...</td>\n",
       "      <td>...</td>\n",
       "      <td>...</td>\n",
       "      <td>...</td>\n",
       "      <td>...</td>\n",
       "      <td>...</td>\n",
       "      <td>...</td>\n",
       "      <td>...</td>\n",
       "    </tr>\n",
       "    <tr>\n",
       "      <th>3627</th>\n",
       "      <td>en</td>\n",
       "      <td>RT @froggirl_mariel: Finally some much needed ...</td>\n",
       "      <td>1230550263590580224</td>\n",
       "      <td>710229097805451265</td>\n",
       "      <td>False</td>\n",
       "      <td>1230550263590580224</td>\n",
       "      <td>1228102442652299264</td>\n",
       "      <td>[1230550263590580224]</td>\n",
       "      <td>2020-02-20T17:50:20.000Z</td>\n",
       "      <td>False</td>\n",
       "      <td>...</td>\n",
       "      <td>402</td>\n",
       "      <td>39688</td>\n",
       "      <td>1</td>\n",
       "      <td>None</td>\n",
       "      <td>rain, australia, frog</td>\n",
       "      <td>australia</td>\n",
       "      <td></td>\n",
       "      <td>3399168254</td>\n",
       "      <td>froggirl_mariel</td>\n",
       "      <td>retweeted</td>\n",
       "    </tr>\n",
       "    <tr>\n",
       "      <th>4959</th>\n",
       "      <td>en</td>\n",
       "      <td>RT @froggirl_mariel: A highlight of #FrogIDWee...</td>\n",
       "      <td>1328315700029566976</td>\n",
       "      <td>1312033441341468672</td>\n",
       "      <td>False</td>\n",
       "      <td>1328315700029566976</td>\n",
       "      <td>1328108763652374529</td>\n",
       "      <td>[1328315700029566976]</td>\n",
       "      <td>2020-11-16T12:35:16.000Z</td>\n",
       "      <td>False</td>\n",
       "      <td>...</td>\n",
       "      <td>29</td>\n",
       "      <td>78395</td>\n",
       "      <td>29</td>\n",
       "      <td>None</td>\n",
       "      <td>FrogIDWeek, frogs, AustralianBushfire</td>\n",
       "      <td>FrogIDWeek, AustralianBushfire</td>\n",
       "      <td></td>\n",
       "      <td>3399168254</td>\n",
       "      <td>froggirl_mariel</td>\n",
       "      <td>retweeted</td>\n",
       "    </tr>\n",
       "    <tr>\n",
       "      <th>4960</th>\n",
       "      <td>en</td>\n",
       "      <td>RT @froggirl_mariel: A highlight of #FrogIDWee...</td>\n",
       "      <td>1328259437925072902</td>\n",
       "      <td>991248554067771392</td>\n",
       "      <td>False</td>\n",
       "      <td>1328259437925072902</td>\n",
       "      <td>1328108763652374529</td>\n",
       "      <td>[1328259437925072902]</td>\n",
       "      <td>2020-11-16T08:51:42.000Z</td>\n",
       "      <td>False</td>\n",
       "      <td>...</td>\n",
       "      <td>994</td>\n",
       "      <td>23919</td>\n",
       "      <td>0</td>\n",
       "      <td>None</td>\n",
       "      <td>FrogIDWeek, frogs, AustralianBushfire</td>\n",
       "      <td>FrogIDWeek, AustralianBushfire</td>\n",
       "      <td></td>\n",
       "      <td>3399168254</td>\n",
       "      <td>froggirl_mariel</td>\n",
       "      <td>retweeted</td>\n",
       "    </tr>\n",
       "    <tr>\n",
       "      <th>4961</th>\n",
       "      <td>en</td>\n",
       "      <td>RT @froggirl_mariel: A highlight of #FrogIDWee...</td>\n",
       "      <td>1328222810351702017</td>\n",
       "      <td>904933218754879488</td>\n",
       "      <td>False</td>\n",
       "      <td>1328222810351702017</td>\n",
       "      <td>1328108763652374529</td>\n",
       "      <td>[1328222810351702017]</td>\n",
       "      <td>2020-11-16T06:26:09.000Z</td>\n",
       "      <td>False</td>\n",
       "      <td>...</td>\n",
       "      <td>1121</td>\n",
       "      <td>2196</td>\n",
       "      <td>54</td>\n",
       "      <td>None</td>\n",
       "      <td>FrogIDWeek, frogs, AustralianBushfire</td>\n",
       "      <td>FrogIDWeek, AustralianBushfire</td>\n",
       "      <td></td>\n",
       "      <td>3399168254</td>\n",
       "      <td>froggirl_mariel</td>\n",
       "      <td>retweeted</td>\n",
       "    </tr>\n",
       "    <tr>\n",
       "      <th>4962</th>\n",
       "      <td>en</td>\n",
       "      <td>RT @froggirl_mariel: A highlight of #FrogIDWee...</td>\n",
       "      <td>1328155984104185856</td>\n",
       "      <td>3930103636</td>\n",
       "      <td>False</td>\n",
       "      <td>1328155984104185856</td>\n",
       "      <td>1328108763652374529</td>\n",
       "      <td>[1328155984104185856]</td>\n",
       "      <td>2020-11-16T02:00:37.000Z</td>\n",
       "      <td>False</td>\n",
       "      <td>...</td>\n",
       "      <td>3926</td>\n",
       "      <td>98627</td>\n",
       "      <td>177</td>\n",
       "      <td>None</td>\n",
       "      <td>FrogIDWeek, frogs, AustralianBushfire</td>\n",
       "      <td>FrogIDWeek, AustralianBushfire</td>\n",
       "      <td></td>\n",
       "      <td>3399168254</td>\n",
       "      <td>froggirl_mariel</td>\n",
       "      <td>retweeted</td>\n",
       "    </tr>\n",
       "  </tbody>\n",
       "</table>\n",
       "<p>62 rows × 41 columns</p>\n",
       "</div>"
      ],
      "text/plain": [
       "     lang                                               text   \n",
       "125    en  RT @froggirl_mariel: Finally some much needed ...  \\\n",
       "3100   en  RT @froggirl_mariel: Finally some much needed ...   \n",
       "3109   en  Finally some much needed #rain in #australia L...   \n",
       "3110   en  A highlight of #FrogIDWeek was hearing #frogs ...   \n",
       "3176   en  RT @froggirl_mariel: Finally some much needed ...   \n",
       "...   ...                                                ...   \n",
       "3627   en  RT @froggirl_mariel: Finally some much needed ...   \n",
       "4959   en  RT @froggirl_mariel: A highlight of #FrogIDWee...   \n",
       "4960   en  RT @froggirl_mariel: A highlight of #FrogIDWee...   \n",
       "4961   en  RT @froggirl_mariel: A highlight of #FrogIDWee...   \n",
       "4962   en  RT @froggirl_mariel: A highlight of #FrogIDWee...   \n",
       "\n",
       "          conversation_id            author_id  possibly_sensitive   \n",
       "125   1228277108809461760             51713026               False  \\\n",
       "3100  1228161446816538626           2814360613               False   \n",
       "3109  1228102442652299264           3399168254               False   \n",
       "3110  1328108763652374529           3399168254               False   \n",
       "3176  1228372354805329921  1025459455930986497               False   \n",
       "...                   ...                  ...                 ...   \n",
       "3627  1230550263590580224   710229097805451265               False   \n",
       "4959  1328315700029566976  1312033441341468672               False   \n",
       "4960  1328259437925072902   991248554067771392               False   \n",
       "4961  1328222810351702017   904933218754879488               False   \n",
       "4962  1328155984104185856           3930103636               False   \n",
       "\n",
       "                       id    referenced_tweets edit_history_tweet_ids   \n",
       "125   1228277108809461760  1228102442652299264  [1228277108809461760]  \\\n",
       "3100  1228161446816538626  1228102442652299264  [1228161446816538626]   \n",
       "3109  1228102442652299264                   {}  [1228102442652299264]   \n",
       "3110  1328108763652374529                   {}  [1328108763652374529]   \n",
       "3176  1228372354805329921  1228102442652299264  [1228372354805329921]   \n",
       "...                   ...                  ...                    ...   \n",
       "3627  1230550263590580224  1228102442652299264  [1230550263590580224]   \n",
       "4959  1328315700029566976  1328108763652374529  [1328315700029566976]   \n",
       "4960  1328259437925072902  1328108763652374529  [1328259437925072902]   \n",
       "4961  1328222810351702017  1328108763652374529  [1328222810351702017]   \n",
       "4962  1328155984104185856  1328108763652374529  [1328155984104185856]   \n",
       "\n",
       "                    created_at context_annotations  ... following_count   \n",
       "125   2020-02-14T11:17:37.000Z               False  ...            4999  \\\n",
       "3100  2020-02-14T03:38:01.000Z               False  ...             258   \n",
       "3109  2020-02-13T23:43:34.000Z    Science, Weather  ...             938   \n",
       "3110  2020-11-15T22:52:58.000Z    Nature, Outdoors  ...             938   \n",
       "3176  2020-02-14T17:36:06.000Z               False  ...             781   \n",
       "...                        ...                 ...  ...             ...   \n",
       "3627  2020-02-20T17:50:20.000Z               False  ...             402   \n",
       "4959  2020-11-16T12:35:16.000Z               False  ...              29   \n",
       "4960  2020-11-16T08:51:42.000Z               False  ...             994   \n",
       "4961  2020-11-16T06:26:09.000Z               False  ...            1121   \n",
       "4962  2020-11-16T02:00:37.000Z               False  ...            3926   \n",
       "\n",
       "     tweet_count listed_count place_id   \n",
       "125       119043           26     None  \\\n",
       "3100        3731           29     None   \n",
       "3109         411            4     None   \n",
       "3110         411            4     None   \n",
       "3176       16701            0     None   \n",
       "...          ...          ...      ...   \n",
       "3627       39688            1     None   \n",
       "4959       78395           29     None   \n",
       "4960       23919            0     None   \n",
       "4961        2196           54     None   \n",
       "4962       98627          177     None   \n",
       "\n",
       "                                               hashtags   \n",
       "125                               rain, australia, frog  \\\n",
       "3100                              rain, australia, frog   \n",
       "3109  rain, australia, frog, AustralianBushfire, Cli...   \n",
       "3110  FrogIDWeek, frogs, AustralianBushfire, wildoz,...   \n",
       "3176                              rain, australia, frog   \n",
       "...                                                 ...   \n",
       "3627                              rain, australia, frog   \n",
       "4959              FrogIDWeek, frogs, AustralianBushfire   \n",
       "4960              FrogIDWeek, frogs, AustralianBushfire   \n",
       "4961              FrogIDWeek, frogs, AustralianBushfire   \n",
       "4962              FrogIDWeek, frogs, AustralianBushfire   \n",
       "\n",
       "                                       annotations   \n",
       "125                                      australia  \\\n",
       "3100                                     australia   \n",
       "3109  australia, AustralianBushfire, ClimateChange   \n",
       "3110     FrogIDWeek, AustralianBushfire, australia   \n",
       "3176                                     australia   \n",
       "...                                            ...   \n",
       "3627                                     australia   \n",
       "4959                FrogIDWeek, AustralianBushfire   \n",
       "4960                FrogIDWeek, AustralianBushfire   \n",
       "4961                FrogIDWeek, AustralianBushfire   \n",
       "4962                FrogIDWeek, AustralianBushfire   \n",
       "\n",
       "                                                   urls        mentions_ids   \n",
       "125                                                              3399168254  \\\n",
       "3100                                                             3399168254   \n",
       "3109  https://twitter.com/froggirl_mariel/status/122...                       \n",
       "3110  https://twitter.com/froggirl_mariel/status/132...  904933218754879488   \n",
       "3176                                                             3399168254   \n",
       "...                                                 ...                 ...   \n",
       "3627                                                             3399168254   \n",
       "4959                                                             3399168254   \n",
       "4960                                                             3399168254   \n",
       "4961                                                             3399168254   \n",
       "4962                                                             3399168254   \n",
       "\n",
       "     mentions_usernames  referenced_type  \n",
       "125     froggirl_mariel        retweeted  \n",
       "3100    froggirl_mariel        retweeted  \n",
       "3109                                      \n",
       "3110          FrogIDAus                   \n",
       "3176    froggirl_mariel        retweeted  \n",
       "...                 ...              ...  \n",
       "3627    froggirl_mariel        retweeted  \n",
       "4959    froggirl_mariel        retweeted  \n",
       "4960    froggirl_mariel        retweeted  \n",
       "4961    froggirl_mariel        retweeted  \n",
       "4962    froggirl_mariel        retweeted  \n",
       "\n",
       "[62 rows x 41 columns]"
      ]
     },
     "execution_count": 13,
     "metadata": {},
     "output_type": "execute_result"
    }
   ],
   "source": [
    "tweets.loc[tweets['hashtags'].str.contains(\"frog\", case=False)]"
   ]
  },
  {
   "cell_type": "code",
   "execution_count": 14,
   "metadata": {
    "pycharm": {
     "name": "#%%\n"
    }
   },
   "outputs": [
    {
     "data": {
      "text/plain": [
       "\"A highlight of #FrogIDWeek was hearing #frogs calling even after last summer drought #AustralianBushfire If you didn't join this week download @FrogIDAus record frogs all summer #wildoz #Amphibia #wildlife #womeninstem #steminist #australia #science #Scicomm #citizenscience https://t.co/t5TBfQCynm\""
      ]
     },
     "execution_count": 14,
     "metadata": {},
     "output_type": "execute_result"
    }
   ],
   "source": [
    "tweets.loc['3110', 'text']"
   ]
  },
  {
   "cell_type": "code",
   "execution_count": 15,
   "metadata": {
    "pycharm": {
     "name": "#%%\n"
    }
   },
   "outputs": [
    {
     "data": {
      "image/png": "[encoded data removed]",
      "text/plain": [
       "<Figure size 640x480 with 1 Axes>"
      ]
     },
     "metadata": {},
     "output_type": "display_data"
    }
   ],
   "source": [
    "## Plotting wordcloud for context annotations\n",
    "plot_wordcloud(df=tweets, column_name='context_annotations', collocations=True)"
   ]
  },
  {
   "cell_type": "code",
   "execution_count": 16,
   "metadata": {
    "pycharm": {
     "name": "#%%\n"
    }
   },
   "outputs": [
    {
     "data": {
      "text/html": [
       "<div>\n",
       "<style scoped>\n",
       "    .dataframe tbody tr th:only-of-type {\n",
       "        vertical-align: middle;\n",
       "    }\n",
       "\n",
       "    .dataframe tbody tr th {\n",
       "        vertical-align: top;\n",
       "    }\n",
       "\n",
       "    .dataframe thead th {\n",
       "        text-align: right;\n",
       "    }\n",
       "</style>\n",
       "<table border=\"1\" class=\"dataframe\">\n",
       "  <thead>\n",
       "    <tr style=\"text-align: right;\">\n",
       "      <th></th>\n",
       "      <th>text</th>\n",
       "      <th>context_annotations</th>\n",
       "      <th>hashtags</th>\n",
       "    </tr>\n",
       "  </thead>\n",
       "  <tbody>\n",
       "    <tr>\n",
       "      <th>96</th>\n",
       "      <td>@taylorswift13 @NetflixFilm Watching #MissAmer...</td>\n",
       "      <td>Kobe Bryant, Basketball, 2020 Senate impeachme...</td>\n",
       "      <td>MissAmericana, coronarovirus, AustralianBushfi...</td>\n",
       "    </tr>\n",
       "    <tr>\n",
       "      <th>520</th>\n",
       "      <td>RT @tasmania888au: #オーストラリア森林火災\\n\\nチャリティーイベントの...</td>\n",
       "      <td>Yuki Kashiwagi, J-pop, Music</td>\n",
       "      <td>オーストラリア森林火災, 安井まみ子, 秋山みなみ, 馬場早莉</td>\n",
       "    </tr>\n",
       "    <tr>\n",
       "      <th>557</th>\n",
       "      <td>#オーストラリア森林火災\\n\\nチャリティーイベントの写真をさらに何枚か…\\n\\n1. あか...</td>\n",
       "      <td>Yuki Kashiwagi, J-pop, Education, Graduate sch...</td>\n",
       "      <td>オーストラリア森林火災, 安井まみ子, 秋山みなみ, 馬場早莉, 上吉原あい, Austra...</td>\n",
       "    </tr>\n",
       "    <tr>\n",
       "      <th>579</th>\n",
       "      <td>RT @tasmania888au: #オーストラリア森林火災\\n\\nチャリティーイベントの...</td>\n",
       "      <td>Yuki Kashiwagi, J-pop, Music</td>\n",
       "      <td>オーストラリア森林火災, 安井まみ子, 秋山みなみ, 馬場早莉</td>\n",
       "    </tr>\n",
       "    <tr>\n",
       "      <th>612</th>\n",
       "      <td>Seriously what is happening!\\n😒\\n\\n1. #JK issu...</td>\n",
       "      <td>COVID-19, Jungkook, K-pop, Music, Airlines can...</td>\n",
       "      <td>JK, CAA, NRC, AustralianBushfire, worldwar3, N...</td>\n",
       "    </tr>\n",
       "    <tr>\n",
       "      <th>...</th>\n",
       "      <td>...</td>\n",
       "      <td>...</td>\n",
       "      <td>...</td>\n",
       "    </tr>\n",
       "    <tr>\n",
       "      <th>3962</th>\n",
       "      <td>RT @nickcarter: This is so devastating...Just ...</td>\n",
       "      <td>Nick Carter, Backstreet Boys, Pop, Music</td>\n",
       "      <td></td>\n",
       "    </tr>\n",
       "    <tr>\n",
       "      <th>4062</th>\n",
       "      <td>Now, I’m not personally a fan of #MileyCyrus ‘...</td>\n",
       "      <td>COVID-19, Miley Cyrus, Pop, Music</td>\n",
       "      <td>MileyCyrus, AustralianBushfire, coronavirus</td>\n",
       "    </tr>\n",
       "    <tr>\n",
       "      <th>4164</th>\n",
       "      <td>Miley Cyrus withdraws from Australian bushfire...</td>\n",
       "      <td>Miley Cyrus, Pop, Music</td>\n",
       "      <td>Cyrus, Australianbushfire</td>\n",
       "    </tr>\n",
       "    <tr>\n",
       "      <th>4562</th>\n",
       "      <td>Michael Jackson - Earth Song (Sydney Dias acou...</td>\n",
       "      <td>COVID-19, Michael Jackson, Services, YouTube, ...</td>\n",
       "      <td>MichaelJackson, EarthSong, Coronavirus, Covid1...</td>\n",
       "    </tr>\n",
       "    <tr>\n",
       "      <th>4899</th>\n",
       "      <td>@KevanKenney @MTV REQUEST #SixTONES @MTV\\n #Fr...</td>\n",
       "      <td>SixTONES, J-pop, Music, Entertainment, TV/Movi...</td>\n",
       "      <td>SixTONES, FridayLivestream</td>\n",
       "    </tr>\n",
       "  </tbody>\n",
       "</table>\n",
       "<p>251 rows × 3 columns</p>\n",
       "</div>"
      ],
      "text/plain": [
       "                                                   text   \n",
       "96    @taylorswift13 @NetflixFilm Watching #MissAmer...  \\\n",
       "520   RT @tasmania888au: #オーストラリア森林火災\\n\\nチャリティーイベントの...   \n",
       "557   #オーストラリア森林火災\\n\\nチャリティーイベントの写真をさらに何枚か…\\n\\n1. あか...   \n",
       "579   RT @tasmania888au: #オーストラリア森林火災\\n\\nチャリティーイベントの...   \n",
       "612   Seriously what is happening!\\n😒\\n\\n1. #JK issu...   \n",
       "...                                                 ...   \n",
       "3962  RT @nickcarter: This is so devastating...Just ...   \n",
       "4062  Now, I’m not personally a fan of #MileyCyrus ‘...   \n",
       "4164  Miley Cyrus withdraws from Australian bushfire...   \n",
       "4562  Michael Jackson - Earth Song (Sydney Dias acou...   \n",
       "4899  @KevanKenney @MTV REQUEST #SixTONES @MTV\\n #Fr...   \n",
       "\n",
       "                                    context_annotations   \n",
       "96    Kobe Bryant, Basketball, 2020 Senate impeachme...  \\\n",
       "520                        Yuki Kashiwagi, J-pop, Music   \n",
       "557   Yuki Kashiwagi, J-pop, Education, Graduate sch...   \n",
       "579                        Yuki Kashiwagi, J-pop, Music   \n",
       "612   COVID-19, Jungkook, K-pop, Music, Airlines can...   \n",
       "...                                                 ...   \n",
       "3962           Nick Carter, Backstreet Boys, Pop, Music   \n",
       "4062                  COVID-19, Miley Cyrus, Pop, Music   \n",
       "4164                            Miley Cyrus, Pop, Music   \n",
       "4562  COVID-19, Michael Jackson, Services, YouTube, ...   \n",
       "4899  SixTONES, J-pop, Music, Entertainment, TV/Movi...   \n",
       "\n",
       "                                               hashtags  \n",
       "96    MissAmericana, coronarovirus, AustralianBushfi...  \n",
       "520                     オーストラリア森林火災, 安井まみ子, 秋山みなみ, 馬場早莉  \n",
       "557   オーストラリア森林火災, 安井まみ子, 秋山みなみ, 馬場早莉, 上吉原あい, Austra...  \n",
       "579                     オーストラリア森林火災, 安井まみ子, 秋山みなみ, 馬場早莉  \n",
       "612   JK, CAA, NRC, AustralianBushfire, worldwar3, N...  \n",
       "...                                                 ...  \n",
       "3962                                                     \n",
       "4062        MileyCyrus, AustralianBushfire, coronavirus  \n",
       "4164                          Cyrus, Australianbushfire  \n",
       "4562  MichaelJackson, EarthSong, Coronavirus, Covid1...  \n",
       "4899                         SixTONES, FridayLivestream  \n",
       "\n",
       "[251 rows x 3 columns]"
      ]
     },
     "execution_count": 16,
     "metadata": {},
     "output_type": "execute_result"
    }
   ],
   "source": [
    "tweets.loc[tweets['context_annotations'].str.contains(\"pop\", case=False), ['text', 'context_annotations', 'hashtags']]"
   ]
  },
  {
   "cell_type": "code",
   "execution_count": 17,
   "metadata": {
    "pycharm": {
     "name": "#%%\n"
    }
   },
   "outputs": [
    {
     "data": {
      "text/plain": [
       "'Now, I’m not personally a fan of #MileyCyrus ‘s music. I respect her as an artist and social advocate. So to everyone about to bash her for canceling her #AustralianBushfire  benefit gig because of #coronavirus worries. Just don’t. P.S. @karlstefanovic , straight-up. Fuck you.'"
      ]
     },
     "execution_count": 17,
     "metadata": {},
     "output_type": "execute_result"
    }
   ],
   "source": [
    "tweets.loc['4062', 'text']"
   ]
  },
  {
   "cell_type": "markdown",
   "metadata": {
    "pycharm": {
     "name": "#%% md\n"
    }
   },
   "source": [
    "## 2. Geographical distribution of tweets"
   ]
  },
  {
   "cell_type": "code",
   "execution_count": 18,
   "metadata": {
    "pycharm": {
     "name": "#%%\n"
    }
   },
   "outputs": [
    {
     "data": {
      "text/plain": [
       "0               Rocky Mountains\n",
       "1             Aquitaine, France\n",
       "2                          None\n",
       "3           a girl in politics \n",
       "4             Hobart, Australia\n",
       "                 ...           \n",
       "5035                       None\n",
       "5036                       None\n",
       "5037           Lisbon, Portugal\n",
       "5038                       None\n",
       "5039    DELHI, LUCKNOW, MUMBAI \n",
       "Name: account-location, Length: 5040, dtype: object"
      ]
     },
     "execution_count": 18,
     "metadata": {},
     "output_type": "execute_result"
    }
   ],
   "source": [
    "tweets.loc[:, 'account-location']"
   ]
  },
  {
   "cell_type": "code",
   "execution_count": 19,
   "metadata": {
    "pycharm": {
     "name": "#%%\n"
    }
   },
   "outputs": [
    {
     "data": {
      "text/plain": [
       "array([None, '01fbe706f872cb32', '01864a8a64df9dc4', '013379ee5729a5e6',\n",
       "       '006523c50dfe9086', '7929cea6bd5b32bd', '288de3df481163e8',\n",
       "       '6252d06c3e5bb9f9', '017453ae077eafd3', '6da7626e4e9e26ba',\n",
       "       'dc62519fda13b4ec', '317fcc4b21a604d5', '4d51b7ea67b6f64b',\n",
       "       '36775d842cbec509', '01e4b0c84959d430', '019e32e73d7d3282',\n",
       "       '06b9691f34c91d1c', '8abc99434d4f5d28', '5e02a0f0d91c76d2',\n",
       "       '67b271cd78f8ad77', '791e00bcadc4615f', '349f43f819b079b9',\n",
       "       '5c62ffb0f0f3479d', 'c500c6f8494a90ac', '25d3e991f5637f5a',\n",
       "       '0073b76548e5984f', '583bd538eb3129d1', '8fa6d7a33b83ef26',\n",
       "       '01b1d7526068eaf8', '002891d33ed032d3', '1c69a67ad480e1b1',\n",
       "       '78d9392bd6093265', '0118c71c0ed41109', '0097e5be48935c75',\n",
       "       '008858bf3f83b001', '01623f9c524a7349', 'b850c1bfd38f30e0',\n",
       "       '173c2bb9d42baaa5', '01bd76d80f0324ea', '1672e4e5bcd4b47f',\n",
       "       '6b9ed4869788d40e', '4fc060f8061bb535', 'c71f3a7498fe95d7'],\n",
       "      dtype=object)"
      ]
     },
     "execution_count": 19,
     "metadata": {},
     "output_type": "execute_result"
    }
   ],
   "source": [
    "tweets['place_id'].unique()"
   ]
  },
  {
   "cell_type": "code",
   "execution_count": null,
   "metadata": {
    "pycharm": {
     "name": "#%%\n"
    }
   },
   "outputs": [],
   "source": []
  },
  {
   "cell_type": "code",
   "execution_count": null,
   "metadata": {
    "pycharm": {
     "name": "#%%\n"
    }
   },
   "outputs": [],
   "source": []
  },
  {
   "cell_type": "code",
   "execution_count": null,
   "metadata": {
    "pycharm": {
     "name": "#%%\n"
    }
   },
   "outputs": [],
   "source": []
  },
  {
   "cell_type": "code",
   "execution_count": null,
   "metadata": {
    "pycharm": {
     "name": "#%%\n"
    }
   },
   "outputs": [],
   "source": []
  },
  {
   "cell_type": "markdown",
   "metadata": {
    "pycharm": {
     "name": "#%% md\n"
    }
   },
   "source": [
    "## 2. Time and context"
   ]
  },
  {
   "cell_type": "code",
   "execution_count": 20,
   "metadata": {
    "pycharm": {
     "name": "#%%\n"
    }
   },
   "outputs": [
    {
     "data": {
      "text/plain": [
       "{'australianbushfire': 2559,\n",
       " 'australia': 995,\n",
       " 'australiafire': 396,\n",
       " 'australianfires': 259,\n",
       " 'auspol': 224,\n",
       " 'australiaonfire': 220,\n",
       " 'hoseok': 202,\n",
       " 'australiaburning': 190,\n",
       " 'tiredearth': 163,\n",
       " 'australiabushfires': 158}"
      ]
     },
     "execution_count": 20,
     "metadata": {},
     "output_type": "execute_result"
    }
   ],
   "source": [
    "# Get most common hashtags\n",
    "hashtags = get_count(df=tweets, column_name='hashtags')\n",
    "common_hashtags = dict(hashtags.most_common(10))\n",
    "common_hashtags"
   ]
  },
  {
   "cell_type": "code",
   "execution_count": null,
   "metadata": {
    "pycharm": {
     "name": "#%%\n"
    }
   },
   "outputs": [],
   "source": [
    "plot_timeseries(df=tweets, column_name='hashtags', keywords=common_hashtags, export=True, location=location)"
   ]
  },
  {
   "cell_type": "code",
   "execution_count": 22,
   "metadata": {
    "pycharm": {
     "name": "#%%\n"
    }
   },
   "outputs": [
    {
     "data": {
      "text/plain": [
       "{'politics': 491,\n",
       " 'entertainment industry': 416,\n",
       " 'political issues': 333,\n",
       " 'global environmental issues': 295,\n",
       " 'music': 262,\n",
       " 'covid-19': 251,\n",
       " 'k-pop': 226,\n",
       " 'science': 208,\n",
       " 'j-hope': 202,\n",
       " \"rain relieves eastern australian fires as west prepares for 'extreme heat wave'\": 192}"
      ]
     },
     "execution_count": 22,
     "metadata": {},
     "output_type": "execute_result"
    }
   ],
   "source": [
    "# Get most common context annotations\n",
    "context_annotations = get_count(df=tweets, column_name='context_annotations')\n",
    "common_context_annotations = dict(context_annotations.most_common(10))\n",
    "common_context_annotations"
   ]
  },
  {
   "cell_type": "code",
   "execution_count": 23,
   "metadata": {
    "pycharm": {
     "name": "#%%\n"
    }
   },
   "outputs": [
    {
     "data": {
      "application/vnd.plotly.v1+json": {
       "config": {
        "plotlyServerURL": "https://plot.ly"
       },
       "data": [
        {
         "name": "politics",
         "type": "bar",
         "x": [
          "2020-02-02T00:00:00+00:00",
          "2020-02-09T00:00:00+00:00",
          "2020-02-16T00:00:00+00:00",
          "2020-02-23T00:00:00+00:00",
          "2020-03-01T00:00:00+00:00",
          "2020-03-08T00:00:00+00:00",
          "2020-03-15T00:00:00+00:00",
          "2020-03-22T00:00:00+00:00",
          "2020-03-29T00:00:00+00:00",
          "2020-04-05T00:00:00+00:00",
          "2020-04-12T00:00:00+00:00",
          "2020-04-19T00:00:00+00:00",
          "2020-04-26T00:00:00+00:00",
          "2020-05-03T00:00:00+00:00",
          "2020-05-10T00:00:00+00:00",
          "2020-05-17T00:00:00+00:00",
          "2020-05-24T00:00:00+00:00",
          "2020-05-31T00:00:00+00:00",
          "2020-06-07T00:00:00+00:00",
          "2020-06-14T00:00:00+00:00",
          "2020-06-21T00:00:00+00:00",
          "2020-06-28T00:00:00+00:00",
          "2020-07-05T00:00:00+00:00",
          "2020-07-12T00:00:00+00:00",
          "2020-07-19T00:00:00+00:00",
          "2020-07-26T00:00:00+00:00",
          "2020-08-02T00:00:00+00:00",
          "2020-08-09T00:00:00+00:00",
          "2020-08-16T00:00:00+00:00",
          "2020-08-23T00:00:00+00:00",
          "2020-08-30T00:00:00+00:00",
          "2020-09-06T00:00:00+00:00",
          "2020-09-13T00:00:00+00:00",
          "2020-09-20T00:00:00+00:00",
          "2020-09-27T00:00:00+00:00",
          "2020-10-04T00:00:00+00:00",
          "2020-10-11T00:00:00+00:00",
          "2020-10-18T00:00:00+00:00",
          "2020-10-25T00:00:00+00:00",
          "2020-11-01T00:00:00+00:00",
          "2020-11-08T00:00:00+00:00",
          "2020-11-15T00:00:00+00:00",
          "2020-11-22T00:00:00+00:00",
          "2020-11-29T00:00:00+00:00",
          "2020-12-06T00:00:00+00:00",
          "2020-12-13T00:00:00+00:00",
          "2020-12-20T00:00:00+00:00",
          "2020-12-27T00:00:00+00:00",
          "2021-01-03T00:00:00+00:00"
         ],
         "y": [
          44,
          137,
          102,
          48,
          28,
          45,
          20,
          7,
          4,
          1,
          2,
          0,
          4,
          8,
          1,
          0,
          1,
          3,
          2,
          0,
          0,
          1,
          0,
          1,
          0,
          1,
          1,
          0,
          1,
          3,
          0,
          0,
          1,
          1,
          0,
          0,
          0,
          3,
          0,
          6,
          0,
          0,
          0,
          1,
          1,
          3,
          5,
          2,
          3
         ]
        },
        {
         "name": "entertainment industry",
         "type": "bar",
         "x": [
          "2020-02-02T00:00:00+00:00",
          "2020-02-09T00:00:00+00:00",
          "2020-02-16T00:00:00+00:00",
          "2020-02-23T00:00:00+00:00",
          "2020-03-01T00:00:00+00:00",
          "2020-03-08T00:00:00+00:00",
          "2020-03-15T00:00:00+00:00",
          "2020-03-22T00:00:00+00:00",
          "2020-03-29T00:00:00+00:00",
          "2020-04-05T00:00:00+00:00",
          "2020-04-12T00:00:00+00:00",
          "2020-04-19T00:00:00+00:00",
          "2020-04-26T00:00:00+00:00",
          "2020-05-03T00:00:00+00:00",
          "2020-05-10T00:00:00+00:00",
          "2020-05-17T00:00:00+00:00",
          "2020-05-24T00:00:00+00:00",
          "2020-05-31T00:00:00+00:00",
          "2020-06-07T00:00:00+00:00",
          "2020-06-14T00:00:00+00:00",
          "2020-06-21T00:00:00+00:00",
          "2020-06-28T00:00:00+00:00",
          "2020-07-05T00:00:00+00:00",
          "2020-07-12T00:00:00+00:00",
          "2020-07-19T00:00:00+00:00",
          "2020-07-26T00:00:00+00:00",
          "2020-08-02T00:00:00+00:00",
          "2020-08-09T00:00:00+00:00",
          "2020-08-16T00:00:00+00:00",
          "2020-08-23T00:00:00+00:00",
          "2020-08-30T00:00:00+00:00",
          "2020-09-06T00:00:00+00:00",
          "2020-09-13T00:00:00+00:00",
          "2020-09-20T00:00:00+00:00",
          "2020-09-27T00:00:00+00:00",
          "2020-10-04T00:00:00+00:00",
          "2020-10-11T00:00:00+00:00",
          "2020-10-18T00:00:00+00:00",
          "2020-10-25T00:00:00+00:00",
          "2020-11-01T00:00:00+00:00",
          "2020-11-08T00:00:00+00:00",
          "2020-11-15T00:00:00+00:00",
          "2020-11-22T00:00:00+00:00",
          "2020-11-29T00:00:00+00:00",
          "2020-12-06T00:00:00+00:00",
          "2020-12-13T00:00:00+00:00",
          "2020-12-20T00:00:00+00:00",
          "2020-12-27T00:00:00+00:00"
         ],
         "y": [
          43,
          194,
          43,
          34,
          14,
          15,
          37,
          6,
          8,
          1,
          1,
          2,
          1,
          1,
          1,
          1,
          1,
          7,
          2,
          0,
          0,
          0,
          0,
          0,
          0,
          0,
          0,
          0,
          0,
          0,
          0,
          0,
          0,
          0,
          0,
          0,
          0,
          1,
          0,
          0,
          0,
          0,
          0,
          0,
          1,
          0,
          0,
          2
         ]
        },
        {
         "name": "political issues",
         "type": "bar",
         "x": [
          "2020-02-02T00:00:00+00:00",
          "2020-02-09T00:00:00+00:00",
          "2020-02-16T00:00:00+00:00",
          "2020-02-23T00:00:00+00:00",
          "2020-03-01T00:00:00+00:00",
          "2020-03-08T00:00:00+00:00",
          "2020-03-15T00:00:00+00:00",
          "2020-03-22T00:00:00+00:00",
          "2020-03-29T00:00:00+00:00",
          "2020-04-05T00:00:00+00:00",
          "2020-04-12T00:00:00+00:00",
          "2020-04-19T00:00:00+00:00",
          "2020-04-26T00:00:00+00:00",
          "2020-05-03T00:00:00+00:00",
          "2020-05-10T00:00:00+00:00",
          "2020-05-17T00:00:00+00:00",
          "2020-05-24T00:00:00+00:00",
          "2020-05-31T00:00:00+00:00",
          "2020-06-07T00:00:00+00:00",
          "2020-06-14T00:00:00+00:00",
          "2020-06-21T00:00:00+00:00",
          "2020-06-28T00:00:00+00:00",
          "2020-07-05T00:00:00+00:00",
          "2020-07-12T00:00:00+00:00",
          "2020-07-19T00:00:00+00:00",
          "2020-07-26T00:00:00+00:00",
          "2020-08-02T00:00:00+00:00",
          "2020-08-09T00:00:00+00:00",
          "2020-08-16T00:00:00+00:00",
          "2020-08-23T00:00:00+00:00",
          "2020-08-30T00:00:00+00:00",
          "2020-09-06T00:00:00+00:00",
          "2020-09-13T00:00:00+00:00",
          "2020-09-20T00:00:00+00:00",
          "2020-09-27T00:00:00+00:00",
          "2020-10-04T00:00:00+00:00",
          "2020-10-11T00:00:00+00:00",
          "2020-10-18T00:00:00+00:00",
          "2020-10-25T00:00:00+00:00",
          "2020-11-01T00:00:00+00:00",
          "2020-11-08T00:00:00+00:00",
          "2020-11-15T00:00:00+00:00",
          "2020-11-22T00:00:00+00:00",
          "2020-11-29T00:00:00+00:00",
          "2020-12-06T00:00:00+00:00",
          "2020-12-13T00:00:00+00:00",
          "2020-12-20T00:00:00+00:00",
          "2020-12-27T00:00:00+00:00",
          "2021-01-03T00:00:00+00:00"
         ],
         "y": [
          34,
          106,
          89,
          40,
          13,
          18,
          8,
          0,
          0,
          1,
          0,
          0,
          0,
          4,
          0,
          0,
          1,
          1,
          0,
          0,
          0,
          0,
          0,
          0,
          0,
          0,
          1,
          0,
          1,
          3,
          0,
          0,
          1,
          1,
          0,
          0,
          0,
          0,
          0,
          0,
          0,
          0,
          0,
          1,
          0,
          2,
          5,
          1,
          2
         ]
        },
        {
         "name": "global environmental issues",
         "type": "bar",
         "x": [
          "2020-02-02T00:00:00+00:00",
          "2020-02-09T00:00:00+00:00",
          "2020-02-16T00:00:00+00:00",
          "2020-02-23T00:00:00+00:00",
          "2020-03-01T00:00:00+00:00",
          "2020-03-08T00:00:00+00:00",
          "2020-03-15T00:00:00+00:00",
          "2020-03-22T00:00:00+00:00",
          "2020-03-29T00:00:00+00:00",
          "2020-04-05T00:00:00+00:00",
          "2020-04-12T00:00:00+00:00",
          "2020-04-19T00:00:00+00:00",
          "2020-04-26T00:00:00+00:00",
          "2020-05-03T00:00:00+00:00",
          "2020-05-10T00:00:00+00:00",
          "2020-05-17T00:00:00+00:00",
          "2020-05-24T00:00:00+00:00",
          "2020-05-31T00:00:00+00:00",
          "2020-06-07T00:00:00+00:00",
          "2020-06-14T00:00:00+00:00",
          "2020-06-21T00:00:00+00:00",
          "2020-06-28T00:00:00+00:00",
          "2020-07-05T00:00:00+00:00",
          "2020-07-12T00:00:00+00:00",
          "2020-07-19T00:00:00+00:00",
          "2020-07-26T00:00:00+00:00",
          "2020-08-02T00:00:00+00:00",
          "2020-08-09T00:00:00+00:00",
          "2020-08-16T00:00:00+00:00",
          "2020-08-23T00:00:00+00:00",
          "2020-08-30T00:00:00+00:00",
          "2020-09-06T00:00:00+00:00",
          "2020-09-13T00:00:00+00:00",
          "2020-09-20T00:00:00+00:00",
          "2020-09-27T00:00:00+00:00",
          "2020-10-04T00:00:00+00:00",
          "2020-10-11T00:00:00+00:00",
          "2020-10-18T00:00:00+00:00",
          "2020-10-25T00:00:00+00:00",
          "2020-11-01T00:00:00+00:00",
          "2020-11-08T00:00:00+00:00",
          "2020-11-15T00:00:00+00:00",
          "2020-11-22T00:00:00+00:00",
          "2020-11-29T00:00:00+00:00",
          "2020-12-06T00:00:00+00:00",
          "2020-12-13T00:00:00+00:00",
          "2020-12-20T00:00:00+00:00",
          "2020-12-27T00:00:00+00:00",
          "2021-01-03T00:00:00+00:00"
         ],
         "y": [
          23,
          100,
          79,
          38,
          8,
          17,
          7,
          0,
          0,
          1,
          0,
          0,
          0,
          4,
          0,
          0,
          1,
          1,
          0,
          0,
          0,
          0,
          0,
          0,
          0,
          0,
          1,
          0,
          1,
          3,
          0,
          0,
          1,
          1,
          0,
          0,
          0,
          0,
          0,
          0,
          0,
          0,
          0,
          1,
          0,
          2,
          4,
          1,
          1
         ]
        },
        {
         "name": "music",
         "type": "bar",
         "x": [
          "2020-02-02T00:00:00+00:00",
          "2020-02-09T00:00:00+00:00",
          "2020-02-16T00:00:00+00:00",
          "2020-02-23T00:00:00+00:00",
          "2020-03-01T00:00:00+00:00",
          "2020-03-08T00:00:00+00:00",
          "2020-03-15T00:00:00+00:00",
          "2020-03-22T00:00:00+00:00",
          "2020-03-29T00:00:00+00:00",
          "2020-04-05T00:00:00+00:00",
          "2020-04-12T00:00:00+00:00",
          "2020-04-19T00:00:00+00:00",
          "2020-04-26T00:00:00+00:00",
          "2020-05-03T00:00:00+00:00",
          "2020-05-10T00:00:00+00:00",
          "2020-05-17T00:00:00+00:00",
          "2020-05-24T00:00:00+00:00",
          "2020-05-31T00:00:00+00:00",
          "2020-06-07T00:00:00+00:00",
          "2020-06-14T00:00:00+00:00",
          "2020-06-21T00:00:00+00:00",
          "2020-06-28T00:00:00+00:00",
          "2020-07-05T00:00:00+00:00",
          "2020-07-12T00:00:00+00:00",
          "2020-07-19T00:00:00+00:00",
          "2020-07-26T00:00:00+00:00",
          "2020-08-02T00:00:00+00:00",
          "2020-08-09T00:00:00+00:00",
          "2020-08-16T00:00:00+00:00",
          "2020-08-23T00:00:00+00:00",
          "2020-08-30T00:00:00+00:00",
          "2020-09-06T00:00:00+00:00",
          "2020-09-13T00:00:00+00:00",
          "2020-09-20T00:00:00+00:00",
          "2020-09-27T00:00:00+00:00",
          "2020-10-04T00:00:00+00:00",
          "2020-10-11T00:00:00+00:00",
          "2020-10-18T00:00:00+00:00",
          "2020-10-25T00:00:00+00:00",
          "2020-11-01T00:00:00+00:00",
          "2020-11-08T00:00:00+00:00",
          "2020-11-15T00:00:00+00:00",
          "2020-11-22T00:00:00+00:00",
          "2020-11-29T00:00:00+00:00",
          "2020-12-06T00:00:00+00:00",
          "2020-12-13T00:00:00+00:00",
          "2020-12-20T00:00:00+00:00",
          "2020-12-27T00:00:00+00:00"
         ],
         "y": [
          2,
          47,
          125,
          72,
          2,
          2,
          3,
          1,
          1,
          0,
          0,
          0,
          1,
          0,
          0,
          0,
          0,
          0,
          0,
          0,
          1,
          0,
          0,
          0,
          0,
          0,
          0,
          0,
          0,
          0,
          0,
          0,
          0,
          0,
          0,
          1,
          0,
          1,
          0,
          0,
          0,
          0,
          0,
          0,
          0,
          0,
          0,
          3
         ]
        },
        {
         "name": "covid-19",
         "type": "bar",
         "x": [
          "2020-02-02T00:00:00+00:00",
          "2020-02-09T00:00:00+00:00",
          "2020-02-16T00:00:00+00:00",
          "2020-02-23T00:00:00+00:00",
          "2020-03-01T00:00:00+00:00",
          "2020-03-08T00:00:00+00:00",
          "2020-03-15T00:00:00+00:00",
          "2020-03-22T00:00:00+00:00",
          "2020-03-29T00:00:00+00:00",
          "2020-04-05T00:00:00+00:00",
          "2020-04-12T00:00:00+00:00",
          "2020-04-19T00:00:00+00:00",
          "2020-04-26T00:00:00+00:00",
          "2020-05-03T00:00:00+00:00",
          "2020-05-10T00:00:00+00:00",
          "2020-05-17T00:00:00+00:00",
          "2020-05-24T00:00:00+00:00",
          "2020-05-31T00:00:00+00:00",
          "2020-06-07T00:00:00+00:00",
          "2020-06-14T00:00:00+00:00",
          "2020-06-21T00:00:00+00:00",
          "2020-06-28T00:00:00+00:00",
          "2020-07-05T00:00:00+00:00",
          "2020-07-12T00:00:00+00:00",
          "2020-07-19T00:00:00+00:00",
          "2020-07-26T00:00:00+00:00",
          "2020-08-02T00:00:00+00:00",
          "2020-08-09T00:00:00+00:00",
          "2020-08-16T00:00:00+00:00",
          "2020-08-23T00:00:00+00:00",
          "2020-08-30T00:00:00+00:00",
          "2020-09-06T00:00:00+00:00",
          "2020-09-13T00:00:00+00:00",
          "2020-09-20T00:00:00+00:00",
          "2020-09-27T00:00:00+00:00",
          "2020-10-04T00:00:00+00:00",
          "2020-10-11T00:00:00+00:00",
          "2020-10-18T00:00:00+00:00",
          "2020-10-25T00:00:00+00:00",
          "2020-11-01T00:00:00+00:00",
          "2020-11-08T00:00:00+00:00",
          "2020-11-15T00:00:00+00:00",
          "2020-11-22T00:00:00+00:00",
          "2020-11-29T00:00:00+00:00",
          "2020-12-06T00:00:00+00:00",
          "2020-12-13T00:00:00+00:00",
          "2020-12-20T00:00:00+00:00",
          "2020-12-27T00:00:00+00:00",
          "2021-01-03T00:00:00+00:00"
         ],
         "y": [
          11,
          16,
          4,
          1,
          8,
          5,
          19,
          19,
          11,
          5,
          3,
          2,
          9,
          24,
          10,
          2,
          10,
          9,
          16,
          6,
          3,
          10,
          3,
          2,
          1,
          1,
          2,
          8,
          4,
          1,
          2,
          0,
          1,
          0,
          0,
          0,
          1,
          1,
          0,
          0,
          0,
          0,
          1,
          0,
          1,
          6,
          11,
          8,
          5
         ]
        },
        {
         "name": "k-pop",
         "type": "bar",
         "x": [
          "2020-02-02T00:00:00+00:00",
          "2020-02-09T00:00:00+00:00",
          "2020-02-16T00:00:00+00:00",
          "2020-02-23T00:00:00+00:00",
          "2020-03-01T00:00:00+00:00"
         ],
         "y": [
          1,
          41,
          123,
          60,
          1
         ]
        },
        {
         "name": "science",
         "type": "bar",
         "x": [
          "2020-02-02T00:00:00+00:00",
          "2020-02-09T00:00:00+00:00",
          "2020-02-16T00:00:00+00:00",
          "2020-02-23T00:00:00+00:00",
          "2020-03-01T00:00:00+00:00",
          "2020-03-08T00:00:00+00:00",
          "2020-03-15T00:00:00+00:00",
          "2020-03-22T00:00:00+00:00",
          "2020-03-29T00:00:00+00:00",
          "2020-04-05T00:00:00+00:00",
          "2020-04-12T00:00:00+00:00",
          "2020-04-19T00:00:00+00:00",
          "2020-04-26T00:00:00+00:00",
          "2020-05-03T00:00:00+00:00",
          "2020-05-10T00:00:00+00:00",
          "2020-05-17T00:00:00+00:00",
          "2020-05-24T00:00:00+00:00",
          "2020-05-31T00:00:00+00:00",
          "2020-06-07T00:00:00+00:00",
          "2020-06-14T00:00:00+00:00",
          "2020-06-21T00:00:00+00:00",
          "2020-06-28T00:00:00+00:00",
          "2020-07-05T00:00:00+00:00",
          "2020-07-12T00:00:00+00:00",
          "2020-07-19T00:00:00+00:00",
          "2020-07-26T00:00:00+00:00",
          "2020-08-02T00:00:00+00:00",
          "2020-08-09T00:00:00+00:00",
          "2020-08-16T00:00:00+00:00",
          "2020-08-23T00:00:00+00:00",
          "2020-08-30T00:00:00+00:00",
          "2020-09-06T00:00:00+00:00",
          "2020-09-13T00:00:00+00:00",
          "2020-09-20T00:00:00+00:00",
          "2020-09-27T00:00:00+00:00",
          "2020-10-04T00:00:00+00:00",
          "2020-10-11T00:00:00+00:00",
          "2020-10-18T00:00:00+00:00",
          "2020-10-25T00:00:00+00:00",
          "2020-11-01T00:00:00+00:00",
          "2020-11-08T00:00:00+00:00",
          "2020-11-15T00:00:00+00:00",
          "2020-11-22T00:00:00+00:00",
          "2020-11-29T00:00:00+00:00",
          "2020-12-06T00:00:00+00:00",
          "2020-12-13T00:00:00+00:00",
          "2020-12-20T00:00:00+00:00",
          "2020-12-27T00:00:00+00:00",
          "2021-01-03T00:00:00+00:00"
         ],
         "y": [
          27,
          61,
          36,
          36,
          6,
          1,
          1,
          1,
          3,
          1,
          0,
          2,
          0,
          0,
          0,
          1,
          0,
          2,
          2,
          0,
          1,
          0,
          1,
          1,
          0,
          0,
          1,
          0,
          3,
          3,
          1,
          0,
          1,
          0,
          0,
          0,
          0,
          0,
          0,
          2,
          0,
          2,
          0,
          1,
          1,
          3,
          5,
          3,
          1
         ]
        },
        {
         "name": "j-hope",
         "type": "bar",
         "x": [
          "2020-02-09T00:00:00+00:00",
          "2020-02-16T00:00:00+00:00",
          "2020-02-23T00:00:00+00:00"
         ],
         "y": [
          20,
          123,
          59
         ]
        },
        {
         "name": "rain relieves eastern australian fires as west prepares for 'extreme heat wave'",
         "type": "bar",
         "x": [
          "2020-02-09T00:00:00+00:00",
          "2020-02-16T00:00:00+00:00"
         ],
         "y": [
          174,
          18
         ]
        }
       ],
       "layout": {
        "barmode": "stack",
        "hovermode": "x",
        "legend": {
         "bgcolor": "rgba(255, 255, 255, 0)",
         "bordercolor": "rgba(255, 255, 255, 0)",
         "x": 1,
         "y": 1
        },
        "template": {
         "data": {
          "bar": [
           {
            "error_x": {
             "color": "#2a3f5f"
            },
            "error_y": {
             "color": "#2a3f5f"
            },
            "marker": {
             "line": {
              "color": "#E5ECF6",
              "width": 0.5
             },
             "pattern": {
              "fillmode": "overlay",
              "size": 10,
              "solidity": 0.2
             }
            },
            "type": "bar"
           }
          ],
          "barpolar": [
           {
            "marker": {
             "line": {
              "color": "#E5ECF6",
              "width": 0.5
             },
             "pattern": {
              "fillmode": "overlay",
              "size": 10,
              "solidity": 0.2
             }
            },
            "type": "barpolar"
           }
          ],
          "carpet": [
           {
            "aaxis": {
             "endlinecolor": "#2a3f5f",
             "gridcolor": "white",
             "linecolor": "white",
             "minorgridcolor": "white",
             "startlinecolor": "#2a3f5f"
            },
            "baxis": {
             "endlinecolor": "#2a3f5f",
             "gridcolor": "white",
             "linecolor": "white",
             "minorgridcolor": "white",
             "startlinecolor": "#2a3f5f"
            },
            "type": "carpet"
           }
          ],
          "choropleth": [
           {
            "colorbar": {
             "outlinewidth": 0,
             "ticks": ""
            },
            "type": "choropleth"
           }
          ],
          "contour": [
           {
            "colorbar": {
             "outlinewidth": 0,
             "ticks": ""
            },
            "colorscale": [
             [
              0,
              "#0d0887"
             ],
             [
              0.1111111111111111,
              "#46039f"
             ],
             [
              0.2222222222222222,
              "#7201a8"
             ],
             [
              0.3333333333333333,
              "#9c179e"
             ],
             [
              0.4444444444444444,
              "#bd3786"
             ],
             [
              0.5555555555555556,
              "#d8576b"
             ],
             [
              0.6666666666666666,
              "#ed7953"
             ],
             [
              0.7777777777777778,
              "#fb9f3a"
             ],
             [
              0.8888888888888888,
              "#fdca26"
             ],
             [
              1,
              "#f0f921"
             ]
            ],
            "type": "contour"
           }
          ],
          "contourcarpet": [
           {
            "colorbar": {
             "outlinewidth": 0,
             "ticks": ""
            },
            "type": "contourcarpet"
           }
          ],
          "heatmap": [
           {
            "colorbar": {
             "outlinewidth": 0,
             "ticks": ""
            },
            "colorscale": [
             [
              0,
              "#0d0887"
             ],
             [
              0.1111111111111111,
              "#46039f"
             ],
             [
              0.2222222222222222,
              "#7201a8"
             ],
             [
              0.3333333333333333,
              "#9c179e"
             ],
             [
              0.4444444444444444,
              "#bd3786"
             ],
             [
              0.5555555555555556,
              "#d8576b"
             ],
             [
              0.6666666666666666,
              "#ed7953"
             ],
             [
              0.7777777777777778,
              "#fb9f3a"
             ],
             [
              0.8888888888888888,
              "#fdca26"
             ],
             [
              1,
              "#f0f921"
             ]
            ],
            "type": "heatmap"
           }
          ],
          "heatmapgl": [
           {
            "colorbar": {
             "outlinewidth": 0,
             "ticks": ""
            },
            "colorscale": [
             [
              0,
              "#0d0887"
             ],
             [
              0.1111111111111111,
              "#46039f"
             ],
             [
              0.2222222222222222,
              "#7201a8"
             ],
             [
              0.3333333333333333,
              "#9c179e"
             ],
             [
              0.4444444444444444,
              "#bd3786"
             ],
             [
              0.5555555555555556,
              "#d8576b"
             ],
             [
              0.6666666666666666,
              "#ed7953"
             ],
             [
              0.7777777777777778,
              "#fb9f3a"
             ],
             [
              0.8888888888888888,
              "#fdca26"
             ],
             [
              1,
              "#f0f921"
             ]
            ],
            "type": "heatmapgl"
           }
          ],
          "histogram": [
           {
            "marker": {
             "pattern": {
              "fillmode": "overlay",
              "size": 10,
              "solidity": 0.2
             }
            },
            "type": "histogram"
           }
          ],
          "histogram2d": [
           {
            "colorbar": {
             "outlinewidth": 0,
             "ticks": ""
            },
            "colorscale": [
             [
              0,
              "#0d0887"
             ],
             [
              0.1111111111111111,
              "#46039f"
             ],
             [
              0.2222222222222222,
              "#7201a8"
             ],
             [
              0.3333333333333333,
              "#9c179e"
             ],
             [
              0.4444444444444444,
              "#bd3786"
             ],
             [
              0.5555555555555556,
              "#d8576b"
             ],
             [
              0.6666666666666666,
              "#ed7953"
             ],
             [
              0.7777777777777778,
              "#fb9f3a"
             ],
             [
              0.8888888888888888,
              "#fdca26"
             ],
             [
              1,
              "#f0f921"
             ]
            ],
            "type": "histogram2d"
           }
          ],
          "histogram2dcontour": [
           {
            "colorbar": {
             "outlinewidth": 0,
             "ticks": ""
            },
            "colorscale": [
             [
              0,
              "#0d0887"
             ],
             [
              0.1111111111111111,
              "#46039f"
             ],
             [
              0.2222222222222222,
              "#7201a8"
             ],
             [
              0.3333333333333333,
              "#9c179e"
             ],
             [
              0.4444444444444444,
              "#bd3786"
             ],
             [
              0.5555555555555556,
              "#d8576b"
             ],
             [
              0.6666666666666666,
              "#ed7953"
             ],
             [
              0.7777777777777778,
              "#fb9f3a"
             ],
             [
              0.8888888888888888,
              "#fdca26"
             ],
             [
              1,
              "#f0f921"
             ]
            ],
            "type": "histogram2dcontour"
           }
          ],
          "mesh3d": [
           {
            "colorbar": {
             "outlinewidth": 0,
             "ticks": ""
            },
            "type": "mesh3d"
           }
          ],
          "parcoords": [
           {
            "line": {
             "colorbar": {
              "outlinewidth": 0,
              "ticks": ""
             }
            },
            "type": "parcoords"
           }
          ],
          "pie": [
           {
            "automargin": true,
            "type": "pie"
           }
          ],
          "scatter": [
           {
            "fillpattern": {
             "fillmode": "overlay",
             "size": 10,
             "solidity": 0.2
            },
            "type": "scatter"
           }
          ],
          "scatter3d": [
           {
            "line": {
             "colorbar": {
              "outlinewidth": 0,
              "ticks": ""
             }
            },
            "marker": {
             "colorbar": {
              "outlinewidth": 0,
              "ticks": ""
             }
            },
            "type": "scatter3d"
           }
          ],
          "scattercarpet": [
           {
            "marker": {
             "colorbar": {
              "outlinewidth": 0,
              "ticks": ""
             }
            },
            "type": "scattercarpet"
           }
          ],
          "scattergeo": [
           {
            "marker": {
             "colorbar": {
              "outlinewidth": 0,
              "ticks": ""
             }
            },
            "type": "scattergeo"
           }
          ],
          "scattergl": [
           {
            "marker": {
             "colorbar": {
              "outlinewidth": 0,
              "ticks": ""
             }
            },
            "type": "scattergl"
           }
          ],
          "scattermapbox": [
           {
            "marker": {
             "colorbar": {
              "outlinewidth": 0,
              "ticks": ""
             }
            },
            "type": "scattermapbox"
           }
          ],
          "scatterpolar": [
           {
            "marker": {
             "colorbar": {
              "outlinewidth": 0,
              "ticks": ""
             }
            },
            "type": "scatterpolar"
           }
          ],
          "scatterpolargl": [
           {
            "marker": {
             "colorbar": {
              "outlinewidth": 0,
              "ticks": ""
             }
            },
            "type": "scatterpolargl"
           }
          ],
          "scatterternary": [
           {
            "marker": {
             "colorbar": {
              "outlinewidth": 0,
              "ticks": ""
             }
            },
            "type": "scatterternary"
           }
          ],
          "surface": [
           {
            "colorbar": {
             "outlinewidth": 0,
             "ticks": ""
            },
            "colorscale": [
             [
              0,
              "#0d0887"
             ],
             [
              0.1111111111111111,
              "#46039f"
             ],
             [
              0.2222222222222222,
              "#7201a8"
             ],
             [
              0.3333333333333333,
              "#9c179e"
             ],
             [
              0.4444444444444444,
              "#bd3786"
             ],
             [
              0.5555555555555556,
              "#d8576b"
             ],
             [
              0.6666666666666666,
              "#ed7953"
             ],
             [
              0.7777777777777778,
              "#fb9f3a"
             ],
             [
              0.8888888888888888,
              "#fdca26"
             ],
             [
              1,
              "#f0f921"
             ]
            ],
            "type": "surface"
           }
          ],
          "table": [
           {
            "cells": {
             "fill": {
              "color": "#EBF0F8"
             },
             "line": {
              "color": "white"
             }
            },
            "header": {
             "fill": {
              "color": "#C8D4E3"
             },
             "line": {
              "color": "white"
             }
            },
            "type": "table"
           }
          ]
         },
         "layout": {
          "annotationdefaults": {
           "arrowcolor": "#2a3f5f",
           "arrowhead": 0,
           "arrowwidth": 1
          },
          "autotypenumbers": "strict",
          "coloraxis": {
           "colorbar": {
            "outlinewidth": 0,
            "ticks": ""
           }
          },
          "colorscale": {
           "diverging": [
            [
             0,
             "#8e0152"
            ],
            [
             0.1,
             "#c51b7d"
            ],
            [
             0.2,
             "#de77ae"
            ],
            [
             0.3,
             "#f1b6da"
            ],
            [
             0.4,
             "#fde0ef"
            ],
            [
             0.5,
             "#f7f7f7"
            ],
            [
             0.6,
             "#e6f5d0"
            ],
            [
             0.7,
             "#b8e186"
            ],
            [
             0.8,
             "#7fbc41"
            ],
            [
             0.9,
             "#4d9221"
            ],
            [
             1,
             "#276419"
            ]
           ],
           "sequential": [
            [
             0,
             "#0d0887"
            ],
            [
             0.1111111111111111,
             "#46039f"
            ],
            [
             0.2222222222222222,
             "#7201a8"
            ],
            [
             0.3333333333333333,
             "#9c179e"
            ],
            [
             0.4444444444444444,
             "#bd3786"
            ],
            [
             0.5555555555555556,
             "#d8576b"
            ],
            [
             0.6666666666666666,
             "#ed7953"
            ],
            [
             0.7777777777777778,
             "#fb9f3a"
            ],
            [
             0.8888888888888888,
             "#fdca26"
            ],
            [
             1,
             "#f0f921"
            ]
           ],
           "sequentialminus": [
            [
             0,
             "#0d0887"
            ],
            [
             0.1111111111111111,
             "#46039f"
            ],
            [
             0.2222222222222222,
             "#7201a8"
            ],
            [
             0.3333333333333333,
             "#9c179e"
            ],
            [
             0.4444444444444444,
             "#bd3786"
            ],
            [
             0.5555555555555556,
             "#d8576b"
            ],
            [
             0.6666666666666666,
             "#ed7953"
            ],
            [
             0.7777777777777778,
             "#fb9f3a"
            ],
            [
             0.8888888888888888,
             "#fdca26"
            ],
            [
             1,
             "#f0f921"
            ]
           ]
          },
          "colorway": [
           "#636efa",
           "#EF553B",
           "#00cc96",
           "#ab63fa",
           "#FFA15A",
           "#19d3f3",
           "#FF6692",
           "#B6E880",
           "#FF97FF",
           "#FECB52"
          ],
          "font": {
           "color": "#2a3f5f"
          },
          "geo": {
           "bgcolor": "white",
           "lakecolor": "white",
           "landcolor": "#E5ECF6",
           "showlakes": true,
           "showland": true,
           "subunitcolor": "white"
          },
          "hoverlabel": {
           "align": "left"
          },
          "hovermode": "closest",
          "mapbox": {
           "style": "light"
          },
          "paper_bgcolor": "white",
          "plot_bgcolor": "#E5ECF6",
          "polar": {
           "angularaxis": {
            "gridcolor": "white",
            "linecolor": "white",
            "ticks": ""
           },
           "bgcolor": "#E5ECF6",
           "radialaxis": {
            "gridcolor": "white",
            "linecolor": "white",
            "ticks": ""
           }
          },
          "scene": {
           "xaxis": {
            "backgroundcolor": "#E5ECF6",
            "gridcolor": "white",
            "gridwidth": 2,
            "linecolor": "white",
            "showbackground": true,
            "ticks": "",
            "zerolinecolor": "white"
           },
           "yaxis": {
            "backgroundcolor": "#E5ECF6",
            "gridcolor": "white",
            "gridwidth": 2,
            "linecolor": "white",
            "showbackground": true,
            "ticks": "",
            "zerolinecolor": "white"
           },
           "zaxis": {
            "backgroundcolor": "#E5ECF6",
            "gridcolor": "white",
            "gridwidth": 2,
            "linecolor": "white",
            "showbackground": true,
            "ticks": "",
            "zerolinecolor": "white"
           }
          },
          "shapedefaults": {
           "line": {
            "color": "#2a3f5f"
           }
          },
          "ternary": {
           "aaxis": {
            "gridcolor": "white",
            "linecolor": "white",
            "ticks": ""
           },
           "baxis": {
            "gridcolor": "white",
            "linecolor": "white",
            "ticks": ""
           },
           "bgcolor": "#E5ECF6",
           "caxis": {
            "gridcolor": "white",
            "linecolor": "white",
            "ticks": ""
           }
          },
          "title": {
           "x": 0.05
          },
          "xaxis": {
           "automargin": true,
           "gridcolor": "white",
           "linecolor": "white",
           "ticks": "",
           "title": {
            "standoff": 15
           },
           "zerolinecolor": "white",
           "zerolinewidth": 2
          },
          "yaxis": {
           "automargin": true,
           "gridcolor": "white",
           "linecolor": "white",
           "ticks": "",
           "title": {
            "standoff": 15
           },
           "zerolinecolor": "white",
           "zerolinewidth": 2
          }
         }
        },
        "title": {
         "text": "CONTEXT_ANNOTATIONS"
        },
        "xaxis": {
         "tickfont": {
          "size": 14
         }
        },
        "yaxis": {
         "tickfont": {
          "size": 14
         },
         "title": {
          "font": {
           "size": 16
          },
          "text": "tweets count"
         }
        }
       }
      },
      "text/html": [
       "<div>                            <div id=\"eea41f14-1847-4ad5-9e59-da028064e2a5\" class=\"plotly-graph-div\" style=\"height:525px; width:100%;\"></div>            <script type=\"text/javascript\">                require([\"plotly\"], function(Plotly) {                    window.PLOTLYENV=window.PLOTLYENV || {};                                    if (document.getElementById(\"eea41f14-1847-4ad5-9e59-da028064e2a5\")) {                    Plotly.newPlot(                        \"eea41f14-1847-4ad5-9e59-da028064e2a5\",                        [{\"name\":\"politics\",\"x\":[\"2020-02-02T00:00:00+00:00\",\"2020-02-09T00:00:00+00:00\",\"2020-02-16T00:00:00+00:00\",\"2020-02-23T00:00:00+00:00\",\"2020-03-01T00:00:00+00:00\",\"2020-03-08T00:00:00+00:00\",\"2020-03-15T00:00:00+00:00\",\"2020-03-22T00:00:00+00:00\",\"2020-03-29T00:00:00+00:00\",\"2020-04-05T00:00:00+00:00\",\"2020-04-12T00:00:00+00:00\",\"2020-04-19T00:00:00+00:00\",\"2020-04-26T00:00:00+00:00\",\"2020-05-03T00:00:00+00:00\",\"2020-05-10T00:00:00+00:00\",\"2020-05-17T00:00:00+00:00\",\"2020-05-24T00:00:00+00:00\",\"2020-05-31T00:00:00+00:00\",\"2020-06-07T00:00:00+00:00\",\"2020-06-14T00:00:00+00:00\",\"2020-06-21T00:00:00+00:00\",\"2020-06-28T00:00:00+00:00\",\"2020-07-05T00:00:00+00:00\",\"2020-07-12T00:00:00+00:00\",\"2020-07-19T00:00:00+00:00\",\"2020-07-26T00:00:00+00:00\",\"2020-08-02T00:00:00+00:00\",\"2020-08-09T00:00:00+00:00\",\"2020-08-16T00:00:00+00:00\",\"2020-08-23T00:00:00+00:00\",\"2020-08-30T00:00:00+00:00\",\"2020-09-06T00:00:00+00:00\",\"2020-09-13T00:00:00+00:00\",\"2020-09-20T00:00:00+00:00\",\"2020-09-27T00:00:00+00:00\",\"2020-10-04T00:00:00+00:00\",\"2020-10-11T00:00:00+00:00\",\"2020-10-18T00:00:00+00:00\",\"2020-10-25T00:00:00+00:00\",\"2020-11-01T00:00:00+00:00\",\"2020-11-08T00:00:00+00:00\",\"2020-11-15T00:00:00+00:00\",\"2020-11-22T00:00:00+00:00\",\"2020-11-29T00:00:00+00:00\",\"2020-12-06T00:00:00+00:00\",\"2020-12-13T00:00:00+00:00\",\"2020-12-20T00:00:00+00:00\",\"2020-12-27T00:00:00+00:00\",\"2021-01-03T00:00:00+00:00\"],\"y\":[44,137,102,48,28,45,20,7,4,1,2,0,4,8,1,0,1,3,2,0,0,1,0,1,0,1,1,0,1,3,0,0,1,1,0,0,0,3,0,6,0,0,0,1,1,3,5,2,3],\"type\":\"bar\"},{\"name\":\"entertainment industry\",\"x\":[\"2020-02-02T00:00:00+00:00\",\"2020-02-09T00:00:00+00:00\",\"2020-02-16T00:00:00+00:00\",\"2020-02-23T00:00:00+00:00\",\"2020-03-01T00:00:00+00:00\",\"2020-03-08T00:00:00+00:00\",\"2020-03-15T00:00:00+00:00\",\"2020-03-22T00:00:00+00:00\",\"2020-03-29T00:00:00+00:00\",\"2020-04-05T00:00:00+00:00\",\"2020-04-12T00:00:00+00:00\",\"2020-04-19T00:00:00+00:00\",\"2020-04-26T00:00:00+00:00\",\"2020-05-03T00:00:00+00:00\",\"2020-05-10T00:00:00+00:00\",\"2020-05-17T00:00:00+00:00\",\"2020-05-24T00:00:00+00:00\",\"2020-05-31T00:00:00+00:00\",\"2020-06-07T00:00:00+00:00\",\"2020-06-14T00:00:00+00:00\",\"2020-06-21T00:00:00+00:00\",\"2020-06-28T00:00:00+00:00\",\"2020-07-05T00:00:00+00:00\",\"2020-07-12T00:00:00+00:00\",\"2020-07-19T00:00:00+00:00\",\"2020-07-26T00:00:00+00:00\",\"2020-08-02T00:00:00+00:00\",\"2020-08-09T00:00:00+00:00\",\"2020-08-16T00:00:00+00:00\",\"2020-08-23T00:00:00+00:00\",\"2020-08-30T00:00:00+00:00\",\"2020-09-06T00:00:00+00:00\",\"2020-09-13T00:00:00+00:00\",\"2020-09-20T00:00:00+00:00\",\"2020-09-27T00:00:00+00:00\",\"2020-10-04T00:00:00+00:00\",\"2020-10-11T00:00:00+00:00\",\"2020-10-18T00:00:00+00:00\",\"2020-10-25T00:00:00+00:00\",\"2020-11-01T00:00:00+00:00\",\"2020-11-08T00:00:00+00:00\",\"2020-11-15T00:00:00+00:00\",\"2020-11-22T00:00:00+00:00\",\"2020-11-29T00:00:00+00:00\",\"2020-12-06T00:00:00+00:00\",\"2020-12-13T00:00:00+00:00\",\"2020-12-20T00:00:00+00:00\",\"2020-12-27T00:00:00+00:00\"],\"y\":[43,194,43,34,14,15,37,6,8,1,1,2,1,1,1,1,1,7,2,0,0,0,0,0,0,0,0,0,0,0,0,0,0,0,0,0,0,1,0,0,0,0,0,0,1,0,0,2],\"type\":\"bar\"},{\"name\":\"political issues\",\"x\":[\"2020-02-02T00:00:00+00:00\",\"2020-02-09T00:00:00+00:00\",\"2020-02-16T00:00:00+00:00\",\"2020-02-23T00:00:00+00:00\",\"2020-03-01T00:00:00+00:00\",\"2020-03-08T00:00:00+00:00\",\"2020-03-15T00:00:00+00:00\",\"2020-03-22T00:00:00+00:00\",\"2020-03-29T00:00:00+00:00\",\"2020-04-05T00:00:00+00:00\",\"2020-04-12T00:00:00+00:00\",\"2020-04-19T00:00:00+00:00\",\"2020-04-26T00:00:00+00:00\",\"2020-05-03T00:00:00+00:00\",\"2020-05-10T00:00:00+00:00\",\"2020-05-17T00:00:00+00:00\",\"2020-05-24T00:00:00+00:00\",\"2020-05-31T00:00:00+00:00\",\"2020-06-07T00:00:00+00:00\",\"2020-06-14T00:00:00+00:00\",\"2020-06-21T00:00:00+00:00\",\"2020-06-28T00:00:00+00:00\",\"2020-07-05T00:00:00+00:00\",\"2020-07-12T00:00:00+00:00\",\"2020-07-19T00:00:00+00:00\",\"2020-07-26T00:00:00+00:00\",\"2020-08-02T00:00:00+00:00\",\"2020-08-09T00:00:00+00:00\",\"2020-08-16T00:00:00+00:00\",\"2020-08-23T00:00:00+00:00\",\"2020-08-30T00:00:00+00:00\",\"2020-09-06T00:00:00+00:00\",\"2020-09-13T00:00:00+00:00\",\"2020-09-20T00:00:00+00:00\",\"2020-09-27T00:00:00+00:00\",\"2020-10-04T00:00:00+00:00\",\"2020-10-11T00:00:00+00:00\",\"2020-10-18T00:00:00+00:00\",\"2020-10-25T00:00:00+00:00\",\"2020-11-01T00:00:00+00:00\",\"2020-11-08T00:00:00+00:00\",\"2020-11-15T00:00:00+00:00\",\"2020-11-22T00:00:00+00:00\",\"2020-11-29T00:00:00+00:00\",\"2020-12-06T00:00:00+00:00\",\"2020-12-13T00:00:00+00:00\",\"2020-12-20T00:00:00+00:00\",\"2020-12-27T00:00:00+00:00\",\"2021-01-03T00:00:00+00:00\"],\"y\":[34,106,89,40,13,18,8,0,0,1,0,0,0,4,0,0,1,1,0,0,0,0,0,0,0,0,1,0,1,3,0,0,1,1,0,0,0,0,0,0,0,0,0,1,0,2,5,1,2],\"type\":\"bar\"},{\"name\":\"global environmental issues\",\"x\":[\"2020-02-02T00:00:00+00:00\",\"2020-02-09T00:00:00+00:00\",\"2020-02-16T00:00:00+00:00\",\"2020-02-23T00:00:00+00:00\",\"2020-03-01T00:00:00+00:00\",\"2020-03-08T00:00:00+00:00\",\"2020-03-15T00:00:00+00:00\",\"2020-03-22T00:00:00+00:00\",\"2020-03-29T00:00:00+00:00\",\"2020-04-05T00:00:00+00:00\",\"2020-04-12T00:00:00+00:00\",\"2020-04-19T00:00:00+00:00\",\"2020-04-26T00:00:00+00:00\",\"2020-05-03T00:00:00+00:00\",\"2020-05-10T00:00:00+00:00\",\"2020-05-17T00:00:00+00:00\",\"2020-05-24T00:00:00+00:00\",\"2020-05-31T00:00:00+00:00\",\"2020-06-07T00:00:00+00:00\",\"2020-06-14T00:00:00+00:00\",\"2020-06-21T00:00:00+00:00\",\"2020-06-28T00:00:00+00:00\",\"2020-07-05T00:00:00+00:00\",\"2020-07-12T00:00:00+00:00\",\"2020-07-19T00:00:00+00:00\",\"2020-07-26T00:00:00+00:00\",\"2020-08-02T00:00:00+00:00\",\"2020-08-09T00:00:00+00:00\",\"2020-08-16T00:00:00+00:00\",\"2020-08-23T00:00:00+00:00\",\"2020-08-30T00:00:00+00:00\",\"2020-09-06T00:00:00+00:00\",\"2020-09-13T00:00:00+00:00\",\"2020-09-20T00:00:00+00:00\",\"2020-09-27T00:00:00+00:00\",\"2020-10-04T00:00:00+00:00\",\"2020-10-11T00:00:00+00:00\",\"2020-10-18T00:00:00+00:00\",\"2020-10-25T00:00:00+00:00\",\"2020-11-01T00:00:00+00:00\",\"2020-11-08T00:00:00+00:00\",\"2020-11-15T00:00:00+00:00\",\"2020-11-22T00:00:00+00:00\",\"2020-11-29T00:00:00+00:00\",\"2020-12-06T00:00:00+00:00\",\"2020-12-13T00:00:00+00:00\",\"2020-12-20T00:00:00+00:00\",\"2020-12-27T00:00:00+00:00\",\"2021-01-03T00:00:00+00:00\"],\"y\":[23,100,79,38,8,17,7,0,0,1,0,0,0,4,0,0,1,1,0,0,0,0,0,0,0,0,1,0,1,3,0,0,1,1,0,0,0,0,0,0,0,0,0,1,0,2,4,1,1],\"type\":\"bar\"},{\"name\":\"music\",\"x\":[\"2020-02-02T00:00:00+00:00\",\"2020-02-09T00:00:00+00:00\",\"2020-02-16T00:00:00+00:00\",\"2020-02-23T00:00:00+00:00\",\"2020-03-01T00:00:00+00:00\",\"2020-03-08T00:00:00+00:00\",\"2020-03-15T00:00:00+00:00\",\"2020-03-22T00:00:00+00:00\",\"2020-03-29T00:00:00+00:00\",\"2020-04-05T00:00:00+00:00\",\"2020-04-12T00:00:00+00:00\",\"2020-04-19T00:00:00+00:00\",\"2020-04-26T00:00:00+00:00\",\"2020-05-03T00:00:00+00:00\",\"2020-05-10T00:00:00+00:00\",\"2020-05-17T00:00:00+00:00\",\"2020-05-24T00:00:00+00:00\",\"2020-05-31T00:00:00+00:00\",\"2020-06-07T00:00:00+00:00\",\"2020-06-14T00:00:00+00:00\",\"2020-06-21T00:00:00+00:00\",\"2020-06-28T00:00:00+00:00\",\"2020-07-05T00:00:00+00:00\",\"2020-07-12T00:00:00+00:00\",\"2020-07-19T00:00:00+00:00\",\"2020-07-26T00:00:00+00:00\",\"2020-08-02T00:00:00+00:00\",\"2020-08-09T00:00:00+00:00\",\"2020-08-16T00:00:00+00:00\",\"2020-08-23T00:00:00+00:00\",\"2020-08-30T00:00:00+00:00\",\"2020-09-06T00:00:00+00:00\",\"2020-09-13T00:00:00+00:00\",\"2020-09-20T00:00:00+00:00\",\"2020-09-27T00:00:00+00:00\",\"2020-10-04T00:00:00+00:00\",\"2020-10-11T00:00:00+00:00\",\"2020-10-18T00:00:00+00:00\",\"2020-10-25T00:00:00+00:00\",\"2020-11-01T00:00:00+00:00\",\"2020-11-08T00:00:00+00:00\",\"2020-11-15T00:00:00+00:00\",\"2020-11-22T00:00:00+00:00\",\"2020-11-29T00:00:00+00:00\",\"2020-12-06T00:00:00+00:00\",\"2020-12-13T00:00:00+00:00\",\"2020-12-20T00:00:00+00:00\",\"2020-12-27T00:00:00+00:00\"],\"y\":[2,47,125,72,2,2,3,1,1,0,0,0,1,0,0,0,0,0,0,0,1,0,0,0,0,0,0,0,0,0,0,0,0,0,0,1,0,1,0,0,0,0,0,0,0,0,0,3],\"type\":\"bar\"},{\"name\":\"covid-19\",\"x\":[\"2020-02-02T00:00:00+00:00\",\"2020-02-09T00:00:00+00:00\",\"2020-02-16T00:00:00+00:00\",\"2020-02-23T00:00:00+00:00\",\"2020-03-01T00:00:00+00:00\",\"2020-03-08T00:00:00+00:00\",\"2020-03-15T00:00:00+00:00\",\"2020-03-22T00:00:00+00:00\",\"2020-03-29T00:00:00+00:00\",\"2020-04-05T00:00:00+00:00\",\"2020-04-12T00:00:00+00:00\",\"2020-04-19T00:00:00+00:00\",\"2020-04-26T00:00:00+00:00\",\"2020-05-03T00:00:00+00:00\",\"2020-05-10T00:00:00+00:00\",\"2020-05-17T00:00:00+00:00\",\"2020-05-24T00:00:00+00:00\",\"2020-05-31T00:00:00+00:00\",\"2020-06-07T00:00:00+00:00\",\"2020-06-14T00:00:00+00:00\",\"2020-06-21T00:00:00+00:00\",\"2020-06-28T00:00:00+00:00\",\"2020-07-05T00:00:00+00:00\",\"2020-07-12T00:00:00+00:00\",\"2020-07-19T00:00:00+00:00\",\"2020-07-26T00:00:00+00:00\",\"2020-08-02T00:00:00+00:00\",\"2020-08-09T00:00:00+00:00\",\"2020-08-16T00:00:00+00:00\",\"2020-08-23T00:00:00+00:00\",\"2020-08-30T00:00:00+00:00\",\"2020-09-06T00:00:00+00:00\",\"2020-09-13T00:00:00+00:00\",\"2020-09-20T00:00:00+00:00\",\"2020-09-27T00:00:00+00:00\",\"2020-10-04T00:00:00+00:00\",\"2020-10-11T00:00:00+00:00\",\"2020-10-18T00:00:00+00:00\",\"2020-10-25T00:00:00+00:00\",\"2020-11-01T00:00:00+00:00\",\"2020-11-08T00:00:00+00:00\",\"2020-11-15T00:00:00+00:00\",\"2020-11-22T00:00:00+00:00\",\"2020-11-29T00:00:00+00:00\",\"2020-12-06T00:00:00+00:00\",\"2020-12-13T00:00:00+00:00\",\"2020-12-20T00:00:00+00:00\",\"2020-12-27T00:00:00+00:00\",\"2021-01-03T00:00:00+00:00\"],\"y\":[11,16,4,1,8,5,19,19,11,5,3,2,9,24,10,2,10,9,16,6,3,10,3,2,1,1,2,8,4,1,2,0,1,0,0,0,1,1,0,0,0,0,1,0,1,6,11,8,5],\"type\":\"bar\"},{\"name\":\"k-pop\",\"x\":[\"2020-02-02T00:00:00+00:00\",\"2020-02-09T00:00:00+00:00\",\"2020-02-16T00:00:00+00:00\",\"2020-02-23T00:00:00+00:00\",\"2020-03-01T00:00:00+00:00\"],\"y\":[1,41,123,60,1],\"type\":\"bar\"},{\"name\":\"science\",\"x\":[\"2020-02-02T00:00:00+00:00\",\"2020-02-09T00:00:00+00:00\",\"2020-02-16T00:00:00+00:00\",\"2020-02-23T00:00:00+00:00\",\"2020-03-01T00:00:00+00:00\",\"2020-03-08T00:00:00+00:00\",\"2020-03-15T00:00:00+00:00\",\"2020-03-22T00:00:00+00:00\",\"2020-03-29T00:00:00+00:00\",\"2020-04-05T00:00:00+00:00\",\"2020-04-12T00:00:00+00:00\",\"2020-04-19T00:00:00+00:00\",\"2020-04-26T00:00:00+00:00\",\"2020-05-03T00:00:00+00:00\",\"2020-05-10T00:00:00+00:00\",\"2020-05-17T00:00:00+00:00\",\"2020-05-24T00:00:00+00:00\",\"2020-05-31T00:00:00+00:00\",\"2020-06-07T00:00:00+00:00\",\"2020-06-14T00:00:00+00:00\",\"2020-06-21T00:00:00+00:00\",\"2020-06-28T00:00:00+00:00\",\"2020-07-05T00:00:00+00:00\",\"2020-07-12T00:00:00+00:00\",\"2020-07-19T00:00:00+00:00\",\"2020-07-26T00:00:00+00:00\",\"2020-08-02T00:00:00+00:00\",\"2020-08-09T00:00:00+00:00\",\"2020-08-16T00:00:00+00:00\",\"2020-08-23T00:00:00+00:00\",\"2020-08-30T00:00:00+00:00\",\"2020-09-06T00:00:00+00:00\",\"2020-09-13T00:00:00+00:00\",\"2020-09-20T00:00:00+00:00\",\"2020-09-27T00:00:00+00:00\",\"2020-10-04T00:00:00+00:00\",\"2020-10-11T00:00:00+00:00\",\"2020-10-18T00:00:00+00:00\",\"2020-10-25T00:00:00+00:00\",\"2020-11-01T00:00:00+00:00\",\"2020-11-08T00:00:00+00:00\",\"2020-11-15T00:00:00+00:00\",\"2020-11-22T00:00:00+00:00\",\"2020-11-29T00:00:00+00:00\",\"2020-12-06T00:00:00+00:00\",\"2020-12-13T00:00:00+00:00\",\"2020-12-20T00:00:00+00:00\",\"2020-12-27T00:00:00+00:00\",\"2021-01-03T00:00:00+00:00\"],\"y\":[27,61,36,36,6,1,1,1,3,1,0,2,0,0,0,1,0,2,2,0,1,0,1,1,0,0,1,0,3,3,1,0,1,0,0,0,0,0,0,2,0,2,0,1,1,3,5,3,1],\"type\":\"bar\"},{\"name\":\"j-hope\",\"x\":[\"2020-02-09T00:00:00+00:00\",\"2020-02-16T00:00:00+00:00\",\"2020-02-23T00:00:00+00:00\"],\"y\":[20,123,59],\"type\":\"bar\"},{\"name\":\"rain relieves eastern australian fires as west prepares for 'extreme heat wave'\",\"x\":[\"2020-02-09T00:00:00+00:00\",\"2020-02-16T00:00:00+00:00\"],\"y\":[174,18],\"type\":\"bar\"}],                        {\"template\":{\"data\":{\"histogram2dcontour\":[{\"type\":\"histogram2dcontour\",\"colorbar\":{\"outlinewidth\":0,\"ticks\":\"\"},\"colorscale\":[[0.0,\"#0d0887\"],[0.1111111111111111,\"#46039f\"],[0.2222222222222222,\"#7201a8\"],[0.3333333333333333,\"#9c179e\"],[0.4444444444444444,\"#bd3786\"],[0.5555555555555556,\"#d8576b\"],[0.6666666666666666,\"#ed7953\"],[0.7777777777777778,\"#fb9f3a\"],[0.8888888888888888,\"#fdca26\"],[1.0,\"#f0f921\"]]}],\"choropleth\":[{\"type\":\"choropleth\",\"colorbar\":{\"outlinewidth\":0,\"ticks\":\"\"}}],\"histogram2d\":[{\"type\":\"histogram2d\",\"colorbar\":{\"outlinewidth\":0,\"ticks\":\"\"},\"colorscale\":[[0.0,\"#0d0887\"],[0.1111111111111111,\"#46039f\"],[0.2222222222222222,\"#7201a8\"],[0.3333333333333333,\"#9c179e\"],[0.4444444444444444,\"#bd3786\"],[0.5555555555555556,\"#d8576b\"],[0.6666666666666666,\"#ed7953\"],[0.7777777777777778,\"#fb9f3a\"],[0.8888888888888888,\"#fdca26\"],[1.0,\"#f0f921\"]]}],\"heatmap\":[{\"type\":\"heatmap\",\"colorbar\":{\"outlinewidth\":0,\"ticks\":\"\"},\"colorscale\":[[0.0,\"#0d0887\"],[0.1111111111111111,\"#46039f\"],[0.2222222222222222,\"#7201a8\"],[0.3333333333333333,\"#9c179e\"],[0.4444444444444444,\"#bd3786\"],[0.5555555555555556,\"#d8576b\"],[0.6666666666666666,\"#ed7953\"],[0.7777777777777778,\"#fb9f3a\"],[0.8888888888888888,\"#fdca26\"],[1.0,\"#f0f921\"]]}],\"heatmapgl\":[{\"type\":\"heatmapgl\",\"colorbar\":{\"outlinewidth\":0,\"ticks\":\"\"},\"colorscale\":[[0.0,\"#0d0887\"],[0.1111111111111111,\"#46039f\"],[0.2222222222222222,\"#7201a8\"],[0.3333333333333333,\"#9c179e\"],[0.4444444444444444,\"#bd3786\"],[0.5555555555555556,\"#d8576b\"],[0.6666666666666666,\"#ed7953\"],[0.7777777777777778,\"#fb9f3a\"],[0.8888888888888888,\"#fdca26\"],[1.0,\"#f0f921\"]]}],\"contourcarpet\":[{\"type\":\"contourcarpet\",\"colorbar\":{\"outlinewidth\":0,\"ticks\":\"\"}}],\"contour\":[{\"type\":\"contour\",\"colorbar\":{\"outlinewidth\":0,\"ticks\":\"\"},\"colorscale\":[[0.0,\"#0d0887\"],[0.1111111111111111,\"#46039f\"],[0.2222222222222222,\"#7201a8\"],[0.3333333333333333,\"#9c179e\"],[0.4444444444444444,\"#bd3786\"],[0.5555555555555556,\"#d8576b\"],[0.6666666666666666,\"#ed7953\"],[0.7777777777777778,\"#fb9f3a\"],[0.8888888888888888,\"#fdca26\"],[1.0,\"#f0f921\"]]}],\"surface\":[{\"type\":\"surface\",\"colorbar\":{\"outlinewidth\":0,\"ticks\":\"\"},\"colorscale\":[[0.0,\"#0d0887\"],[0.1111111111111111,\"#46039f\"],[0.2222222222222222,\"#7201a8\"],[0.3333333333333333,\"#9c179e\"],[0.4444444444444444,\"#bd3786\"],[0.5555555555555556,\"#d8576b\"],[0.6666666666666666,\"#ed7953\"],[0.7777777777777778,\"#fb9f3a\"],[0.8888888888888888,\"#fdca26\"],[1.0,\"#f0f921\"]]}],\"mesh3d\":[{\"type\":\"mesh3d\",\"colorbar\":{\"outlinewidth\":0,\"ticks\":\"\"}}],\"scatter\":[{\"fillpattern\":{\"fillmode\":\"overlay\",\"size\":10,\"solidity\":0.2},\"type\":\"scatter\"}],\"parcoords\":[{\"type\":\"parcoords\",\"line\":{\"colorbar\":{\"outlinewidth\":0,\"ticks\":\"\"}}}],\"scatterpolargl\":[{\"type\":\"scatterpolargl\",\"marker\":{\"colorbar\":{\"outlinewidth\":0,\"ticks\":\"\"}}}],\"bar\":[{\"error_x\":{\"color\":\"#2a3f5f\"},\"error_y\":{\"color\":\"#2a3f5f\"},\"marker\":{\"line\":{\"color\":\"#E5ECF6\",\"width\":0.5},\"pattern\":{\"fillmode\":\"overlay\",\"size\":10,\"solidity\":0.2}},\"type\":\"bar\"}],\"scattergeo\":[{\"type\":\"scattergeo\",\"marker\":{\"colorbar\":{\"outlinewidth\":0,\"ticks\":\"\"}}}],\"scatterpolar\":[{\"type\":\"scatterpolar\",\"marker\":{\"colorbar\":{\"outlinewidth\":0,\"ticks\":\"\"}}}],\"histogram\":[{\"marker\":{\"pattern\":{\"fillmode\":\"overlay\",\"size\":10,\"solidity\":0.2}},\"type\":\"histogram\"}],\"scattergl\":[{\"type\":\"scattergl\",\"marker\":{\"colorbar\":{\"outlinewidth\":0,\"ticks\":\"\"}}}],\"scatter3d\":[{\"type\":\"scatter3d\",\"line\":{\"colorbar\":{\"outlinewidth\":0,\"ticks\":\"\"}},\"marker\":{\"colorbar\":{\"outlinewidth\":0,\"ticks\":\"\"}}}],\"scattermapbox\":[{\"type\":\"scattermapbox\",\"marker\":{\"colorbar\":{\"outlinewidth\":0,\"ticks\":\"\"}}}],\"scatterternary\":[{\"type\":\"scatterternary\",\"marker\":{\"colorbar\":{\"outlinewidth\":0,\"ticks\":\"\"}}}],\"scattercarpet\":[{\"type\":\"scattercarpet\",\"marker\":{\"colorbar\":{\"outlinewidth\":0,\"ticks\":\"\"}}}],\"carpet\":[{\"aaxis\":{\"endlinecolor\":\"#2a3f5f\",\"gridcolor\":\"white\",\"linecolor\":\"white\",\"minorgridcolor\":\"white\",\"startlinecolor\":\"#2a3f5f\"},\"baxis\":{\"endlinecolor\":\"#2a3f5f\",\"gridcolor\":\"white\",\"linecolor\":\"white\",\"minorgridcolor\":\"white\",\"startlinecolor\":\"#2a3f5f\"},\"type\":\"carpet\"}],\"table\":[{\"cells\":{\"fill\":{\"color\":\"#EBF0F8\"},\"line\":{\"color\":\"white\"}},\"header\":{\"fill\":{\"color\":\"#C8D4E3\"},\"line\":{\"color\":\"white\"}},\"type\":\"table\"}],\"barpolar\":[{\"marker\":{\"line\":{\"color\":\"#E5ECF6\",\"width\":0.5},\"pattern\":{\"fillmode\":\"overlay\",\"size\":10,\"solidity\":0.2}},\"type\":\"barpolar\"}],\"pie\":[{\"automargin\":true,\"type\":\"pie\"}]},\"layout\":{\"autotypenumbers\":\"strict\",\"colorway\":[\"#636efa\",\"#EF553B\",\"#00cc96\",\"#ab63fa\",\"#FFA15A\",\"#19d3f3\",\"#FF6692\",\"#B6E880\",\"#FF97FF\",\"#FECB52\"],\"font\":{\"color\":\"#2a3f5f\"},\"hovermode\":\"closest\",\"hoverlabel\":{\"align\":\"left\"},\"paper_bgcolor\":\"white\",\"plot_bgcolor\":\"#E5ECF6\",\"polar\":{\"bgcolor\":\"#E5ECF6\",\"angularaxis\":{\"gridcolor\":\"white\",\"linecolor\":\"white\",\"ticks\":\"\"},\"radialaxis\":{\"gridcolor\":\"white\",\"linecolor\":\"white\",\"ticks\":\"\"}},\"ternary\":{\"bgcolor\":\"#E5ECF6\",\"aaxis\":{\"gridcolor\":\"white\",\"linecolor\":\"white\",\"ticks\":\"\"},\"baxis\":{\"gridcolor\":\"white\",\"linecolor\":\"white\",\"ticks\":\"\"},\"caxis\":{\"gridcolor\":\"white\",\"linecolor\":\"white\",\"ticks\":\"\"}},\"coloraxis\":{\"colorbar\":{\"outlinewidth\":0,\"ticks\":\"\"}},\"colorscale\":{\"sequential\":[[0.0,\"#0d0887\"],[0.1111111111111111,\"#46039f\"],[0.2222222222222222,\"#7201a8\"],[0.3333333333333333,\"#9c179e\"],[0.4444444444444444,\"#bd3786\"],[0.5555555555555556,\"#d8576b\"],[0.6666666666666666,\"#ed7953\"],[0.7777777777777778,\"#fb9f3a\"],[0.8888888888888888,\"#fdca26\"],[1.0,\"#f0f921\"]],\"sequentialminus\":[[0.0,\"#0d0887\"],[0.1111111111111111,\"#46039f\"],[0.2222222222222222,\"#7201a8\"],[0.3333333333333333,\"#9c179e\"],[0.4444444444444444,\"#bd3786\"],[0.5555555555555556,\"#d8576b\"],[0.6666666666666666,\"#ed7953\"],[0.7777777777777778,\"#fb9f3a\"],[0.8888888888888888,\"#fdca26\"],[1.0,\"#f0f921\"]],\"diverging\":[[0,\"#8e0152\"],[0.1,\"#c51b7d\"],[0.2,\"#de77ae\"],[0.3,\"#f1b6da\"],[0.4,\"#fde0ef\"],[0.5,\"#f7f7f7\"],[0.6,\"#e6f5d0\"],[0.7,\"#b8e186\"],[0.8,\"#7fbc41\"],[0.9,\"#4d9221\"],[1,\"#276419\"]]},\"xaxis\":{\"gridcolor\":\"white\",\"linecolor\":\"white\",\"ticks\":\"\",\"title\":{\"standoff\":15},\"zerolinecolor\":\"white\",\"automargin\":true,\"zerolinewidth\":2},\"yaxis\":{\"gridcolor\":\"white\",\"linecolor\":\"white\",\"ticks\":\"\",\"title\":{\"standoff\":15},\"zerolinecolor\":\"white\",\"automargin\":true,\"zerolinewidth\":2},\"scene\":{\"xaxis\":{\"backgroundcolor\":\"#E5ECF6\",\"gridcolor\":\"white\",\"linecolor\":\"white\",\"showbackground\":true,\"ticks\":\"\",\"zerolinecolor\":\"white\",\"gridwidth\":2},\"yaxis\":{\"backgroundcolor\":\"#E5ECF6\",\"gridcolor\":\"white\",\"linecolor\":\"white\",\"showbackground\":true,\"ticks\":\"\",\"zerolinecolor\":\"white\",\"gridwidth\":2},\"zaxis\":{\"backgroundcolor\":\"#E5ECF6\",\"gridcolor\":\"white\",\"linecolor\":\"white\",\"showbackground\":true,\"ticks\":\"\",\"zerolinecolor\":\"white\",\"gridwidth\":2}},\"shapedefaults\":{\"line\":{\"color\":\"#2a3f5f\"}},\"annotationdefaults\":{\"arrowcolor\":\"#2a3f5f\",\"arrowhead\":0,\"arrowwidth\":1},\"geo\":{\"bgcolor\":\"white\",\"landcolor\":\"#E5ECF6\",\"subunitcolor\":\"white\",\"showland\":true,\"showlakes\":true,\"lakecolor\":\"white\"},\"title\":{\"x\":0.05},\"mapbox\":{\"style\":\"light\"}}},\"xaxis\":{\"tickfont\":{\"size\":14}},\"yaxis\":{\"title\":{\"text\":\"tweets count\",\"font\":{\"size\":16}},\"tickfont\":{\"size\":14}},\"legend\":{\"x\":1.0,\"y\":1.0,\"bgcolor\":\"rgba(255, 255, 255, 0)\",\"bordercolor\":\"rgba(255, 255, 255, 0)\"},\"title\":{\"text\":\"CONTEXT_ANNOTATIONS\"},\"barmode\":\"stack\",\"hovermode\":\"x\"},                        {\"responsive\": true}                    ).then(function(){\n",
       "                            \n",
       "var gd = document.getElementById('eea41f14-1847-4ad5-9e59-da028064e2a5');\n",
       "var x = new MutationObserver(function (mutations, observer) {{\n",
       "        var display = window.getComputedStyle(gd).display;\n",
       "        if (!display || display === 'none') {{\n",
       "            console.log([gd, 'removed!']);\n",
       "            Plotly.purge(gd);\n",
       "            observer.disconnect();\n",
       "        }}\n",
       "}});\n",
       "\n",
       "// Listen for the removal of the full notebook cells\n",
       "var notebookContainer = gd.closest('#notebook-container');\n",
       "if (notebookContainer) {{\n",
       "    x.observe(notebookContainer, {childList: true});\n",
       "}}\n",
       "\n",
       "// Listen for the clearing of the current output cell\n",
       "var outputEl = gd.closest('.output');\n",
       "if (outputEl) {{\n",
       "    x.observe(outputEl, {childList: true});\n",
       "}}\n",
       "\n",
       "                        })                };                });            </script>        </div>"
      ]
     },
     "metadata": {},
     "output_type": "display_data"
    }
   ],
   "source": [
    "plot_timeseries(df=tweets, column_name='context_annotations', keywords=common_context_annotations, export=True,\n",
    "                location=location)"
   ]
  },
  {
   "cell_type": "code",
   "execution_count": 24,
   "metadata": {
    "pycharm": {
     "name": "#%%\n"
    }
   },
   "outputs": [],
   "source": [
    "# From this, following is the most relevant contexts\n",
    "relevant_context = ['political issues', 'global environmental issues', 'politics', 'science', \"rain relieves eastern australian fires as west prepares for 'extreme heat wave'\"]"
   ]
  },
  {
   "cell_type": "code",
   "execution_count": 25,
   "metadata": {
    "pycharm": {
     "name": "#%%\n"
    }
   },
   "outputs": [
    {
     "name": "stdout",
     "output_type": "stream",
     "text": [
      "{' AustralianBushfire': 965, ' Australia': 404, ' ClimateAction': 383, ' ClimateEmergency': 345, ' ClimateCrisis': 261, ' auspol': 191, ' ClimateChange': 184, ' AustraliaOnFire': 147, ' ': 144, ' dumpfossilfuels': 139}\n",
      "\n",
      "\n",
      "\n"
     ]
    },
    {
     "data": {
      "image/png": "[encoded data removed]",
      "text/plain": [
       "<Figure size 1000x500 with 1 Axes>"
      ]
     },
     "metadata": {},
     "output_type": "display_data"
    }
   ],
   "source": [
    "get_relevant_hashtags(df=tweets,relevant_context=relevant_context)"
   ]
  },
  {
   "cell_type": "markdown",
   "metadata": {
    "pycharm": {
     "name": "#%% md\n"
    }
   },
   "source": [
    "## 3. Language"
   ]
  },
  {
   "cell_type": "code",
   "execution_count": 26,
   "metadata": {
    "pycharm": {
     "name": "#%%\n"
    }
   },
   "outputs": [
    {
     "data": {
      "application/vnd.plotly.v1+json": {
       "config": {
        "plotlyServerURL": "https://plot.ly"
       },
       "data": [
        {
         "domain": {
          "x": [
           0,
           1
          ],
          "y": [
           0,
           1
          ]
         },
         "hovertemplate": "index=%{label}<br>value=%{value}<extra></extra>",
         "labels": [
          "English",
          "Unknown language [qht]",
          "German",
          "Unknown language [qme]",
          "Hindi",
          "Spanish",
          "Japanese",
          "French",
          "Unknown language",
          "Greek",
          "Italian",
          "Indonesian",
          "Chinese",
          "Polish",
          "Catalan",
          "Tamil",
          "No linguistic content",
          "Dutch",
          "Arabic",
          "Urdu",
          "Turkish",
          "Persian",
          "Estonian",
          "Swedish",
          "Portuguese",
          "Filipino",
          "Thai",
          "Czech",
          "Danish",
          "Kannada",
          "Finnish",
          "Welsh",
          "Korean",
          "Punjabi",
          "Bangla",
          "Gujarati",
          "Odia",
          "Unknown language [qam]"
         ],
         "legendgroup": "",
         "name": "",
         "showlegend": true,
         "textposition": "inside",
         "type": "pie",
         "values": [
          4371,
          130,
          118,
          89,
          68,
          67,
          28,
          27,
          24,
          24,
          18,
          6,
          6,
          6,
          6,
          5,
          5,
          4,
          4,
          4,
          4,
          3,
          3,
          3,
          2,
          2,
          2,
          1,
          1,
          1,
          1,
          1,
          1,
          1,
          1,
          1,
          1,
          1
         ]
        }
       ],
       "layout": {
        "annotations": [
         {
          "showarrow": false,
          "text": "Note- qht: Tweets with hashtags only | qam: Tweets with mentions only | qme: Tweets with media links",
          "x": 0,
          "xref": "x domain",
          "y": -0.2,
          "yref": "y domain"
         }
        ],
        "hovermode": "x",
        "legend": {
         "tracegroupgap": 0
        },
        "margin": {
         "t": 60
        },
        "template": {
         "data": {
          "bar": [
           {
            "error_x": {
             "color": "#2a3f5f"
            },
            "error_y": {
             "color": "#2a3f5f"
            },
            "marker": {
             "line": {
              "color": "#E5ECF6",
              "width": 0.5
             },
             "pattern": {
              "fillmode": "overlay",
              "size": 10,
              "solidity": 0.2
             }
            },
            "type": "bar"
           }
          ],
          "barpolar": [
           {
            "marker": {
             "line": {
              "color": "#E5ECF6",
              "width": 0.5
             },
             "pattern": {
              "fillmode": "overlay",
              "size": 10,
              "solidity": 0.2
             }
            },
            "type": "barpolar"
           }
          ],
          "carpet": [
           {
            "aaxis": {
             "endlinecolor": "#2a3f5f",
             "gridcolor": "white",
             "linecolor": "white",
             "minorgridcolor": "white",
             "startlinecolor": "#2a3f5f"
            },
            "baxis": {
             "endlinecolor": "#2a3f5f",
             "gridcolor": "white",
             "linecolor": "white",
             "minorgridcolor": "white",
             "startlinecolor": "#2a3f5f"
            },
            "type": "carpet"
           }
          ],
          "choropleth": [
           {
            "colorbar": {
             "outlinewidth": 0,
             "ticks": ""
            },
            "type": "choropleth"
           }
          ],
          "contour": [
           {
            "colorbar": {
             "outlinewidth": 0,
             "ticks": ""
            },
            "colorscale": [
             [
              0,
              "#0d0887"
             ],
             [
              0.1111111111111111,
              "#46039f"
             ],
             [
              0.2222222222222222,
              "#7201a8"
             ],
             [
              0.3333333333333333,
              "#9c179e"
             ],
             [
              0.4444444444444444,
              "#bd3786"
             ],
             [
              0.5555555555555556,
              "#d8576b"
             ],
             [
              0.6666666666666666,
              "#ed7953"
             ],
             [
              0.7777777777777778,
              "#fb9f3a"
             ],
             [
              0.8888888888888888,
              "#fdca26"
             ],
             [
              1,
              "#f0f921"
             ]
            ],
            "type": "contour"
           }
          ],
          "contourcarpet": [
           {
            "colorbar": {
             "outlinewidth": 0,
             "ticks": ""
            },
            "type": "contourcarpet"
           }
          ],
          "heatmap": [
           {
            "colorbar": {
             "outlinewidth": 0,
             "ticks": ""
            },
            "colorscale": [
             [
              0,
              "#0d0887"
             ],
             [
              0.1111111111111111,
              "#46039f"
             ],
             [
              0.2222222222222222,
              "#7201a8"
             ],
             [
              0.3333333333333333,
              "#9c179e"
             ],
             [
              0.4444444444444444,
              "#bd3786"
             ],
             [
              0.5555555555555556,
              "#d8576b"
             ],
             [
              0.6666666666666666,
              "#ed7953"
             ],
             [
              0.7777777777777778,
              "#fb9f3a"
             ],
             [
              0.8888888888888888,
              "#fdca26"
             ],
             [
              1,
              "#f0f921"
             ]
            ],
            "type": "heatmap"
           }
          ],
          "heatmapgl": [
           {
            "colorbar": {
             "outlinewidth": 0,
             "ticks": ""
            },
            "colorscale": [
             [
              0,
              "#0d0887"
             ],
             [
              0.1111111111111111,
              "#46039f"
             ],
             [
              0.2222222222222222,
              "#7201a8"
             ],
             [
              0.3333333333333333,
              "#9c179e"
             ],
             [
              0.4444444444444444,
              "#bd3786"
             ],
             [
              0.5555555555555556,
              "#d8576b"
             ],
             [
              0.6666666666666666,
              "#ed7953"
             ],
             [
              0.7777777777777778,
              "#fb9f3a"
             ],
             [
              0.8888888888888888,
              "#fdca26"
             ],
             [
              1,
              "#f0f921"
             ]
            ],
            "type": "heatmapgl"
           }
          ],
          "histogram": [
           {
            "marker": {
             "pattern": {
              "fillmode": "overlay",
              "size": 10,
              "solidity": 0.2
             }
            },
            "type": "histogram"
           }
          ],
          "histogram2d": [
           {
            "colorbar": {
             "outlinewidth": 0,
             "ticks": ""
            },
            "colorscale": [
             [
              0,
              "#0d0887"
             ],
             [
              0.1111111111111111,
              "#46039f"
             ],
             [
              0.2222222222222222,
              "#7201a8"
             ],
             [
              0.3333333333333333,
              "#9c179e"
             ],
             [
              0.4444444444444444,
              "#bd3786"
             ],
             [
              0.5555555555555556,
              "#d8576b"
             ],
             [
              0.6666666666666666,
              "#ed7953"
             ],
             [
              0.7777777777777778,
              "#fb9f3a"
             ],
             [
              0.8888888888888888,
              "#fdca26"
             ],
             [
              1,
              "#f0f921"
             ]
            ],
            "type": "histogram2d"
           }
          ],
          "histogram2dcontour": [
           {
            "colorbar": {
             "outlinewidth": 0,
             "ticks": ""
            },
            "colorscale": [
             [
              0,
              "#0d0887"
             ],
             [
              0.1111111111111111,
              "#46039f"
             ],
             [
              0.2222222222222222,
              "#7201a8"
             ],
             [
              0.3333333333333333,
              "#9c179e"
             ],
             [
              0.4444444444444444,
              "#bd3786"
             ],
             [
              0.5555555555555556,
              "#d8576b"
             ],
             [
              0.6666666666666666,
              "#ed7953"
             ],
             [
              0.7777777777777778,
              "#fb9f3a"
             ],
             [
              0.8888888888888888,
              "#fdca26"
             ],
             [
              1,
              "#f0f921"
             ]
            ],
            "type": "histogram2dcontour"
           }
          ],
          "mesh3d": [
           {
            "colorbar": {
             "outlinewidth": 0,
             "ticks": ""
            },
            "type": "mesh3d"
           }
          ],
          "parcoords": [
           {
            "line": {
             "colorbar": {
              "outlinewidth": 0,
              "ticks": ""
             }
            },
            "type": "parcoords"
           }
          ],
          "pie": [
           {
            "automargin": true,
            "type": "pie"
           }
          ],
          "scatter": [
           {
            "fillpattern": {
             "fillmode": "overlay",
             "size": 10,
             "solidity": 0.2
            },
            "type": "scatter"
           }
          ],
          "scatter3d": [
           {
            "line": {
             "colorbar": {
              "outlinewidth": 0,
              "ticks": ""
             }
            },
            "marker": {
             "colorbar": {
              "outlinewidth": 0,
              "ticks": ""
             }
            },
            "type": "scatter3d"
           }
          ],
          "scattercarpet": [
           {
            "marker": {
             "colorbar": {
              "outlinewidth": 0,
              "ticks": ""
             }
            },
            "type": "scattercarpet"
           }
          ],
          "scattergeo": [
           {
            "marker": {
             "colorbar": {
              "outlinewidth": 0,
              "ticks": ""
             }
            },
            "type": "scattergeo"
           }
          ],
          "scattergl": [
           {
            "marker": {
             "colorbar": {
              "outlinewidth": 0,
              "ticks": ""
             }
            },
            "type": "scattergl"
           }
          ],
          "scattermapbox": [
           {
            "marker": {
             "colorbar": {
              "outlinewidth": 0,
              "ticks": ""
             }
            },
            "type": "scattermapbox"
           }
          ],
          "scatterpolar": [
           {
            "marker": {
             "colorbar": {
              "outlinewidth": 0,
              "ticks": ""
             }
            },
            "type": "scatterpolar"
           }
          ],
          "scatterpolargl": [
           {
            "marker": {
             "colorbar": {
              "outlinewidth": 0,
              "ticks": ""
             }
            },
            "type": "scatterpolargl"
           }
          ],
          "scatterternary": [
           {
            "marker": {
             "colorbar": {
              "outlinewidth": 0,
              "ticks": ""
             }
            },
            "type": "scatterternary"
           }
          ],
          "surface": [
           {
            "colorbar": {
             "outlinewidth": 0,
             "ticks": ""
            },
            "colorscale": [
             [
              0,
              "#0d0887"
             ],
             [
              0.1111111111111111,
              "#46039f"
             ],
             [
              0.2222222222222222,
              "#7201a8"
             ],
             [
              0.3333333333333333,
              "#9c179e"
             ],
             [
              0.4444444444444444,
              "#bd3786"
             ],
             [
              0.5555555555555556,
              "#d8576b"
             ],
             [
              0.6666666666666666,
              "#ed7953"
             ],
             [
              0.7777777777777778,
              "#fb9f3a"
             ],
             [
              0.8888888888888888,
              "#fdca26"
             ],
             [
              1,
              "#f0f921"
             ]
            ],
            "type": "surface"
           }
          ],
          "table": [
           {
            "cells": {
             "fill": {
              "color": "#EBF0F8"
             },
             "line": {
              "color": "white"
             }
            },
            "header": {
             "fill": {
              "color": "#C8D4E3"
             },
             "line": {
              "color": "white"
             }
            },
            "type": "table"
           }
          ]
         },
         "layout": {
          "annotationdefaults": {
           "arrowcolor": "#2a3f5f",
           "arrowhead": 0,
           "arrowwidth": 1
          },
          "autotypenumbers": "strict",
          "coloraxis": {
           "colorbar": {
            "outlinewidth": 0,
            "ticks": ""
           }
          },
          "colorscale": {
           "diverging": [
            [
             0,
             "#8e0152"
            ],
            [
             0.1,
             "#c51b7d"
            ],
            [
             0.2,
             "#de77ae"
            ],
            [
             0.3,
             "#f1b6da"
            ],
            [
             0.4,
             "#fde0ef"
            ],
            [
             0.5,
             "#f7f7f7"
            ],
            [
             0.6,
             "#e6f5d0"
            ],
            [
             0.7,
             "#b8e186"
            ],
            [
             0.8,
             "#7fbc41"
            ],
            [
             0.9,
             "#4d9221"
            ],
            [
             1,
             "#276419"
            ]
           ],
           "sequential": [
            [
             0,
             "#0d0887"
            ],
            [
             0.1111111111111111,
             "#46039f"
            ],
            [
             0.2222222222222222,
             "#7201a8"
            ],
            [
             0.3333333333333333,
             "#9c179e"
            ],
            [
             0.4444444444444444,
             "#bd3786"
            ],
            [
             0.5555555555555556,
             "#d8576b"
            ],
            [
             0.6666666666666666,
             "#ed7953"
            ],
            [
             0.7777777777777778,
             "#fb9f3a"
            ],
            [
             0.8888888888888888,
             "#fdca26"
            ],
            [
             1,
             "#f0f921"
            ]
           ],
           "sequentialminus": [
            [
             0,
             "#0d0887"
            ],
            [
             0.1111111111111111,
             "#46039f"
            ],
            [
             0.2222222222222222,
             "#7201a8"
            ],
            [
             0.3333333333333333,
             "#9c179e"
            ],
            [
             0.4444444444444444,
             "#bd3786"
            ],
            [
             0.5555555555555556,
             "#d8576b"
            ],
            [
             0.6666666666666666,
             "#ed7953"
            ],
            [
             0.7777777777777778,
             "#fb9f3a"
            ],
            [
             0.8888888888888888,
             "#fdca26"
            ],
            [
             1,
             "#f0f921"
            ]
           ]
          },
          "colorway": [
           "#636efa",
           "#EF553B",
           "#00cc96",
           "#ab63fa",
           "#FFA15A",
           "#19d3f3",
           "#FF6692",
           "#B6E880",
           "#FF97FF",
           "#FECB52"
          ],
          "font": {
           "color": "#2a3f5f"
          },
          "geo": {
           "bgcolor": "white",
           "lakecolor": "white",
           "landcolor": "#E5ECF6",
           "showlakes": true,
           "showland": true,
           "subunitcolor": "white"
          },
          "hoverlabel": {
           "align": "left"
          },
          "hovermode": "closest",
          "mapbox": {
           "style": "light"
          },
          "paper_bgcolor": "white",
          "plot_bgcolor": "#E5ECF6",
          "polar": {
           "angularaxis": {
            "gridcolor": "white",
            "linecolor": "white",
            "ticks": ""
           },
           "bgcolor": "#E5ECF6",
           "radialaxis": {
            "gridcolor": "white",
            "linecolor": "white",
            "ticks": ""
           }
          },
          "scene": {
           "xaxis": {
            "backgroundcolor": "#E5ECF6",
            "gridcolor": "white",
            "gridwidth": 2,
            "linecolor": "white",
            "showbackground": true,
            "ticks": "",
            "zerolinecolor": "white"
           },
           "yaxis": {
            "backgroundcolor": "#E5ECF6",
            "gridcolor": "white",
            "gridwidth": 2,
            "linecolor": "white",
            "showbackground": true,
            "ticks": "",
            "zerolinecolor": "white"
           },
           "zaxis": {
            "backgroundcolor": "#E5ECF6",
            "gridcolor": "white",
            "gridwidth": 2,
            "linecolor": "white",
            "showbackground": true,
            "ticks": "",
            "zerolinecolor": "white"
           }
          },
          "shapedefaults": {
           "line": {
            "color": "#2a3f5f"
           }
          },
          "ternary": {
           "aaxis": {
            "gridcolor": "white",
            "linecolor": "white",
            "ticks": ""
           },
           "baxis": {
            "gridcolor": "white",
            "linecolor": "white",
            "ticks": ""
           },
           "bgcolor": "#E5ECF6",
           "caxis": {
            "gridcolor": "white",
            "linecolor": "white",
            "ticks": ""
           }
          },
          "title": {
           "x": 0.05
          },
          "xaxis": {
           "automargin": true,
           "gridcolor": "white",
           "linecolor": "white",
           "ticks": "",
           "title": {
            "standoff": 15
           },
           "zerolinecolor": "white",
           "zerolinewidth": 2
          },
          "yaxis": {
           "automargin": true,
           "gridcolor": "white",
           "linecolor": "white",
           "ticks": "",
           "title": {
            "standoff": 15
           },
           "zerolinecolor": "white",
           "zerolinewidth": 2
          }
         }
        },
        "title": {
         "text": "LANGUAGE OF TWEETS DOWNLOADED"
        },
        "uniformtext": {
         "minsize": 12,
         "mode": "hide"
        }
       }
      },
      "text/html": [
       "<div>                            <div id=\"5d41aba2-b4f0-4f0d-bd52-aedf7b12e56b\" class=\"plotly-graph-div\" style=\"height:525px; width:100%;\"></div>            <script type=\"text/javascript\">                require([\"plotly\"], function(Plotly) {                    window.PLOTLYENV=window.PLOTLYENV || {};                                    if (document.getElementById(\"5d41aba2-b4f0-4f0d-bd52-aedf7b12e56b\")) {                    Plotly.newPlot(                        \"5d41aba2-b4f0-4f0d-bd52-aedf7b12e56b\",                        [{\"domain\":{\"x\":[0.0,1.0],\"y\":[0.0,1.0]},\"hovertemplate\":\"index=%{label}<br>value=%{value}<extra></extra>\",\"labels\":[\"English\",\"Unknown language [qht]\",\"German\",\"Unknown language [qme]\",\"Hindi\",\"Spanish\",\"Japanese\",\"French\",\"Unknown language\",\"Greek\",\"Italian\",\"Indonesian\",\"Chinese\",\"Polish\",\"Catalan\",\"Tamil\",\"No linguistic content\",\"Dutch\",\"Arabic\",\"Urdu\",\"Turkish\",\"Persian\",\"Estonian\",\"Swedish\",\"Portuguese\",\"Filipino\",\"Thai\",\"Czech\",\"Danish\",\"Kannada\",\"Finnish\",\"Welsh\",\"Korean\",\"Punjabi\",\"Bangla\",\"Gujarati\",\"Odia\",\"Unknown language [qam]\"],\"legendgroup\":\"\",\"name\":\"\",\"showlegend\":true,\"values\":[4371,130,118,89,68,67,28,27,24,24,18,6,6,6,6,5,5,4,4,4,4,3,3,3,2,2,2,1,1,1,1,1,1,1,1,1,1,1],\"type\":\"pie\",\"textposition\":\"inside\"}],                        {\"template\":{\"data\":{\"histogram2dcontour\":[{\"type\":\"histogram2dcontour\",\"colorbar\":{\"outlinewidth\":0,\"ticks\":\"\"},\"colorscale\":[[0.0,\"#0d0887\"],[0.1111111111111111,\"#46039f\"],[0.2222222222222222,\"#7201a8\"],[0.3333333333333333,\"#9c179e\"],[0.4444444444444444,\"#bd3786\"],[0.5555555555555556,\"#d8576b\"],[0.6666666666666666,\"#ed7953\"],[0.7777777777777778,\"#fb9f3a\"],[0.8888888888888888,\"#fdca26\"],[1.0,\"#f0f921\"]]}],\"choropleth\":[{\"type\":\"choropleth\",\"colorbar\":{\"outlinewidth\":0,\"ticks\":\"\"}}],\"histogram2d\":[{\"type\":\"histogram2d\",\"colorbar\":{\"outlinewidth\":0,\"ticks\":\"\"},\"colorscale\":[[0.0,\"#0d0887\"],[0.1111111111111111,\"#46039f\"],[0.2222222222222222,\"#7201a8\"],[0.3333333333333333,\"#9c179e\"],[0.4444444444444444,\"#bd3786\"],[0.5555555555555556,\"#d8576b\"],[0.6666666666666666,\"#ed7953\"],[0.7777777777777778,\"#fb9f3a\"],[0.8888888888888888,\"#fdca26\"],[1.0,\"#f0f921\"]]}],\"heatmap\":[{\"type\":\"heatmap\",\"colorbar\":{\"outlinewidth\":0,\"ticks\":\"\"},\"colorscale\":[[0.0,\"#0d0887\"],[0.1111111111111111,\"#46039f\"],[0.2222222222222222,\"#7201a8\"],[0.3333333333333333,\"#9c179e\"],[0.4444444444444444,\"#bd3786\"],[0.5555555555555556,\"#d8576b\"],[0.6666666666666666,\"#ed7953\"],[0.7777777777777778,\"#fb9f3a\"],[0.8888888888888888,\"#fdca26\"],[1.0,\"#f0f921\"]]}],\"heatmapgl\":[{\"type\":\"heatmapgl\",\"colorbar\":{\"outlinewidth\":0,\"ticks\":\"\"},\"colorscale\":[[0.0,\"#0d0887\"],[0.1111111111111111,\"#46039f\"],[0.2222222222222222,\"#7201a8\"],[0.3333333333333333,\"#9c179e\"],[0.4444444444444444,\"#bd3786\"],[0.5555555555555556,\"#d8576b\"],[0.6666666666666666,\"#ed7953\"],[0.7777777777777778,\"#fb9f3a\"],[0.8888888888888888,\"#fdca26\"],[1.0,\"#f0f921\"]]}],\"contourcarpet\":[{\"type\":\"contourcarpet\",\"colorbar\":{\"outlinewidth\":0,\"ticks\":\"\"}}],\"contour\":[{\"type\":\"contour\",\"colorbar\":{\"outlinewidth\":0,\"ticks\":\"\"},\"colorscale\":[[0.0,\"#0d0887\"],[0.1111111111111111,\"#46039f\"],[0.2222222222222222,\"#7201a8\"],[0.3333333333333333,\"#9c179e\"],[0.4444444444444444,\"#bd3786\"],[0.5555555555555556,\"#d8576b\"],[0.6666666666666666,\"#ed7953\"],[0.7777777777777778,\"#fb9f3a\"],[0.8888888888888888,\"#fdca26\"],[1.0,\"#f0f921\"]]}],\"surface\":[{\"type\":\"surface\",\"colorbar\":{\"outlinewidth\":0,\"ticks\":\"\"},\"colorscale\":[[0.0,\"#0d0887\"],[0.1111111111111111,\"#46039f\"],[0.2222222222222222,\"#7201a8\"],[0.3333333333333333,\"#9c179e\"],[0.4444444444444444,\"#bd3786\"],[0.5555555555555556,\"#d8576b\"],[0.6666666666666666,\"#ed7953\"],[0.7777777777777778,\"#fb9f3a\"],[0.8888888888888888,\"#fdca26\"],[1.0,\"#f0f921\"]]}],\"mesh3d\":[{\"type\":\"mesh3d\",\"colorbar\":{\"outlinewidth\":0,\"ticks\":\"\"}}],\"scatter\":[{\"fillpattern\":{\"fillmode\":\"overlay\",\"size\":10,\"solidity\":0.2},\"type\":\"scatter\"}],\"parcoords\":[{\"type\":\"parcoords\",\"line\":{\"colorbar\":{\"outlinewidth\":0,\"ticks\":\"\"}}}],\"scatterpolargl\":[{\"type\":\"scatterpolargl\",\"marker\":{\"colorbar\":{\"outlinewidth\":0,\"ticks\":\"\"}}}],\"bar\":[{\"error_x\":{\"color\":\"#2a3f5f\"},\"error_y\":{\"color\":\"#2a3f5f\"},\"marker\":{\"line\":{\"color\":\"#E5ECF6\",\"width\":0.5},\"pattern\":{\"fillmode\":\"overlay\",\"size\":10,\"solidity\":0.2}},\"type\":\"bar\"}],\"scattergeo\":[{\"type\":\"scattergeo\",\"marker\":{\"colorbar\":{\"outlinewidth\":0,\"ticks\":\"\"}}}],\"scatterpolar\":[{\"type\":\"scatterpolar\",\"marker\":{\"colorbar\":{\"outlinewidth\":0,\"ticks\":\"\"}}}],\"histogram\":[{\"marker\":{\"pattern\":{\"fillmode\":\"overlay\",\"size\":10,\"solidity\":0.2}},\"type\":\"histogram\"}],\"scattergl\":[{\"type\":\"scattergl\",\"marker\":{\"colorbar\":{\"outlinewidth\":0,\"ticks\":\"\"}}}],\"scatter3d\":[{\"type\":\"scatter3d\",\"line\":{\"colorbar\":{\"outlinewidth\":0,\"ticks\":\"\"}},\"marker\":{\"colorbar\":{\"outlinewidth\":0,\"ticks\":\"\"}}}],\"scattermapbox\":[{\"type\":\"scattermapbox\",\"marker\":{\"colorbar\":{\"outlinewidth\":0,\"ticks\":\"\"}}}],\"scatterternary\":[{\"type\":\"scatterternary\",\"marker\":{\"colorbar\":{\"outlinewidth\":0,\"ticks\":\"\"}}}],\"scattercarpet\":[{\"type\":\"scattercarpet\",\"marker\":{\"colorbar\":{\"outlinewidth\":0,\"ticks\":\"\"}}}],\"carpet\":[{\"aaxis\":{\"endlinecolor\":\"#2a3f5f\",\"gridcolor\":\"white\",\"linecolor\":\"white\",\"minorgridcolor\":\"white\",\"startlinecolor\":\"#2a3f5f\"},\"baxis\":{\"endlinecolor\":\"#2a3f5f\",\"gridcolor\":\"white\",\"linecolor\":\"white\",\"minorgridcolor\":\"white\",\"startlinecolor\":\"#2a3f5f\"},\"type\":\"carpet\"}],\"table\":[{\"cells\":{\"fill\":{\"color\":\"#EBF0F8\"},\"line\":{\"color\":\"white\"}},\"header\":{\"fill\":{\"color\":\"#C8D4E3\"},\"line\":{\"color\":\"white\"}},\"type\":\"table\"}],\"barpolar\":[{\"marker\":{\"line\":{\"color\":\"#E5ECF6\",\"width\":0.5},\"pattern\":{\"fillmode\":\"overlay\",\"size\":10,\"solidity\":0.2}},\"type\":\"barpolar\"}],\"pie\":[{\"automargin\":true,\"type\":\"pie\"}]},\"layout\":{\"autotypenumbers\":\"strict\",\"colorway\":[\"#636efa\",\"#EF553B\",\"#00cc96\",\"#ab63fa\",\"#FFA15A\",\"#19d3f3\",\"#FF6692\",\"#B6E880\",\"#FF97FF\",\"#FECB52\"],\"font\":{\"color\":\"#2a3f5f\"},\"hovermode\":\"closest\",\"hoverlabel\":{\"align\":\"left\"},\"paper_bgcolor\":\"white\",\"plot_bgcolor\":\"#E5ECF6\",\"polar\":{\"bgcolor\":\"#E5ECF6\",\"angularaxis\":{\"gridcolor\":\"white\",\"linecolor\":\"white\",\"ticks\":\"\"},\"radialaxis\":{\"gridcolor\":\"white\",\"linecolor\":\"white\",\"ticks\":\"\"}},\"ternary\":{\"bgcolor\":\"#E5ECF6\",\"aaxis\":{\"gridcolor\":\"white\",\"linecolor\":\"white\",\"ticks\":\"\"},\"baxis\":{\"gridcolor\":\"white\",\"linecolor\":\"white\",\"ticks\":\"\"},\"caxis\":{\"gridcolor\":\"white\",\"linecolor\":\"white\",\"ticks\":\"\"}},\"coloraxis\":{\"colorbar\":{\"outlinewidth\":0,\"ticks\":\"\"}},\"colorscale\":{\"sequential\":[[0.0,\"#0d0887\"],[0.1111111111111111,\"#46039f\"],[0.2222222222222222,\"#7201a8\"],[0.3333333333333333,\"#9c179e\"],[0.4444444444444444,\"#bd3786\"],[0.5555555555555556,\"#d8576b\"],[0.6666666666666666,\"#ed7953\"],[0.7777777777777778,\"#fb9f3a\"],[0.8888888888888888,\"#fdca26\"],[1.0,\"#f0f921\"]],\"sequentialminus\":[[0.0,\"#0d0887\"],[0.1111111111111111,\"#46039f\"],[0.2222222222222222,\"#7201a8\"],[0.3333333333333333,\"#9c179e\"],[0.4444444444444444,\"#bd3786\"],[0.5555555555555556,\"#d8576b\"],[0.6666666666666666,\"#ed7953\"],[0.7777777777777778,\"#fb9f3a\"],[0.8888888888888888,\"#fdca26\"],[1.0,\"#f0f921\"]],\"diverging\":[[0,\"#8e0152\"],[0.1,\"#c51b7d\"],[0.2,\"#de77ae\"],[0.3,\"#f1b6da\"],[0.4,\"#fde0ef\"],[0.5,\"#f7f7f7\"],[0.6,\"#e6f5d0\"],[0.7,\"#b8e186\"],[0.8,\"#7fbc41\"],[0.9,\"#4d9221\"],[1,\"#276419\"]]},\"xaxis\":{\"gridcolor\":\"white\",\"linecolor\":\"white\",\"ticks\":\"\",\"title\":{\"standoff\":15},\"zerolinecolor\":\"white\",\"automargin\":true,\"zerolinewidth\":2},\"yaxis\":{\"gridcolor\":\"white\",\"linecolor\":\"white\",\"ticks\":\"\",\"title\":{\"standoff\":15},\"zerolinecolor\":\"white\",\"automargin\":true,\"zerolinewidth\":2},\"scene\":{\"xaxis\":{\"backgroundcolor\":\"#E5ECF6\",\"gridcolor\":\"white\",\"linecolor\":\"white\",\"showbackground\":true,\"ticks\":\"\",\"zerolinecolor\":\"white\",\"gridwidth\":2},\"yaxis\":{\"backgroundcolor\":\"#E5ECF6\",\"gridcolor\":\"white\",\"linecolor\":\"white\",\"showbackground\":true,\"ticks\":\"\",\"zerolinecolor\":\"white\",\"gridwidth\":2},\"zaxis\":{\"backgroundcolor\":\"#E5ECF6\",\"gridcolor\":\"white\",\"linecolor\":\"white\",\"showbackground\":true,\"ticks\":\"\",\"zerolinecolor\":\"white\",\"gridwidth\":2}},\"shapedefaults\":{\"line\":{\"color\":\"#2a3f5f\"}},\"annotationdefaults\":{\"arrowcolor\":\"#2a3f5f\",\"arrowhead\":0,\"arrowwidth\":1},\"geo\":{\"bgcolor\":\"white\",\"landcolor\":\"#E5ECF6\",\"subunitcolor\":\"white\",\"showland\":true,\"showlakes\":true,\"lakecolor\":\"white\"},\"title\":{\"x\":0.05},\"mapbox\":{\"style\":\"light\"}}},\"legend\":{\"tracegroupgap\":0},\"margin\":{\"t\":60},\"uniformtext\":{\"minsize\":12,\"mode\":\"hide\"},\"title\":{\"text\":\"LANGUAGE OF TWEETS DOWNLOADED\"},\"hovermode\":\"x\",\"annotations\":[{\"showarrow\":false,\"text\":\"Note- qht: Tweets with hashtags only | qam: Tweets with mentions only | qme: Tweets with media links\",\"x\":0.0,\"xref\":\"x domain\",\"y\":-0.2,\"yref\":\"y domain\"}]},                        {\"responsive\": true}                    ).then(function(){\n",
       "                            \n",
       "var gd = document.getElementById('5d41aba2-b4f0-4f0d-bd52-aedf7b12e56b');\n",
       "var x = new MutationObserver(function (mutations, observer) {{\n",
       "        var display = window.getComputedStyle(gd).display;\n",
       "        if (!display || display === 'none') {{\n",
       "            console.log([gd, 'removed!']);\n",
       "            Plotly.purge(gd);\n",
       "            observer.disconnect();\n",
       "        }}\n",
       "}});\n",
       "\n",
       "// Listen for the removal of the full notebook cells\n",
       "var notebookContainer = gd.closest('#notebook-container');\n",
       "if (notebookContainer) {{\n",
       "    x.observe(notebookContainer, {childList: true});\n",
       "}}\n",
       "\n",
       "// Listen for the clearing of the current output cell\n",
       "var outputEl = gd.closest('.output');\n",
       "if (outputEl) {{\n",
       "    x.observe(outputEl, {childList: true});\n",
       "}}\n",
       "\n",
       "                        })                };                });            </script>        </div>"
      ]
     },
     "metadata": {},
     "output_type": "display_data"
    }
   ],
   "source": [
    "plot_language_chart(df=tweets, export=True, location='location')"
   ]
  },
  {
   "cell_type": "markdown",
   "metadata": {
    "pycharm": {
     "name": "#%% md\n"
    }
   },
   "source": [
    "## 4. Users and Tweets"
   ]
  },
  {
   "cell_type": "code",
   "execution_count": 27,
   "metadata": {
    "pycharm": {
     "name": "#%%\n"
    }
   },
   "outputs": [],
   "source": [
    "# Plot verified users using top hashtags"
   ]
  },
  {
   "cell_type": "code",
   "execution_count": 30,
   "metadata": {
    "pycharm": {
     "name": "#%%\n"
    }
   },
   "outputs": [
    {
     "data": {
      "image/png": "[encoded data removed]",
      "text/plain": [
       "<Figure size 1000x500 with 1 Axes>"
      ]
     },
     "metadata": {},
     "output_type": "display_data"
    }
   ],
   "source": [
    "fig, ax = plt.subplots(1, 1, figsize=(10, 5))\n",
    "data = tweets.loc[:, 'verified'].value_counts()\n",
    "ax.pie(data, labels=data.index, autopct='%.0f%%', shadow=False,\n",
    "       textprops={'size': 'smaller'}, )\n",
    "plt.suptitle(f'overall verified user proportion in the data'.upper())\n",
    "plt.tight_layout()\n",
    "plt.savefig(f'{location}_verified_overall.png', bbox_inches='tight', dpi=300)\n",
    "plt.show()"
   ]
  },
  {
   "cell_type": "code",
   "execution_count": 31,
   "metadata": {
    "pycharm": {
     "name": "#%%\n"
    }
   },
   "outputs": [
    {
     "data": {
      "image/png": "[encoded data removed]",
      "text/plain": [
       "<Figure size 1000x500 with 10 Axes>"
      ]
     },
     "metadata": {},
     "output_type": "display_data"
    }
   ],
   "source": [
    "plot_verified_proportion(df=tweets,\n",
    "                         column_name='hashtags',\n",
    "                         row=2,\n",
    "                         col=5,\n",
    "                         keywords=list(common_hashtags.keys()),\n",
    "                         export=True,\n",
    "                         location=location, )"
   ]
  },
  {
   "cell_type": "code",
   "execution_count": 32,
   "metadata": {
    "pycharm": {
     "name": "#%%\n"
    }
   },
   "outputs": [
    {
     "data": {
      "image/png": "[encoded data removed]",
      "text/plain": [
       "<Figure size 1000x500 with 10 Axes>"
      ]
     },
     "metadata": {},
     "output_type": "display_data"
    }
   ],
   "source": [
    "plot_verified_proportion(df=tweets,\n",
    "                         column_name='context_annotations',\n",
    "                         row=2,\n",
    "                         col=5,\n",
    "                         keywords=list(common_context_annotations.keys()),\n",
    "                         export=True,\n",
    "                         location=location, )"
   ]
  },
  {
   "cell_type": "code",
   "execution_count": 33,
   "metadata": {
    "pycharm": {
     "name": "#%%\n"
    }
   },
   "outputs": [],
   "source": [
    "# get top tweet"
   ]
  },
  {
   "cell_type": "code",
   "execution_count": 34,
   "metadata": {
    "pycharm": {
     "name": "#%%\n"
    }
   },
   "outputs": [
    {
     "name": "stdout",
     "output_type": "stream",
     "text": [
      "Following is the most retweeted tweet authored by _tisyia with retweet count of 14184\n",
      " RT @usmandevries: Muslims in Australia performed *Salat Ul  Istasqa\" (a special prayers for the rain) &amp; it rained in Australia now ALHAMDUL…\n",
      "\n",
      "\n",
      " Following is the most liked tweet authored by Elizabeth_Ruler with retweet count of 560\n",
      " After the devastating bushfires Australia is coming back to life...\n",
      "\n",
      "https://t.co/vR3KsN6OKm\n",
      "\n",
      "#Tiredearth #Australia #AustraliaBurning #AustraliaBushfires #australiafire #ClimateChange #ClimateCrisis\n",
      "\n",
      "\n",
      " Following is the most replied tweet authored by Elizabeth_Ruler with retweet count of 34\n",
      " After the devastating bushfires Australia is coming back to life...\n",
      "\n",
      "https://t.co/vR3KsN6OKm\n",
      "\n",
      "#Tiredearth #Australia #AustraliaBurning #AustraliaBushfires #australiafire #ClimateChange #ClimateCrisis\n",
      "\n",
      "\n",
      " Following is the most quoted tweet authored by Elizabeth_Ruler with retweet count of 29\n",
      " After the devastating bushfires Australia is coming back to life...\n",
      "\n",
      "https://t.co/vR3KsN6OKm\n",
      "\n",
      "#Tiredearth #Australia #AustraliaBurning #AustraliaBushfires #australiafire #ClimateChange #ClimateCrisis\n",
      "\n",
      "\n",
      " Following is the tweet with most impressions authored by darla_reeves with retweet count of 0\n",
      " RT @DouglasReeves: Want to help Australia?  My friend John Hattie @john_hattie  recommends this as the place to give:  https://t.co/3m9AodA…\n"
     ]
    }
   ],
   "source": [
    "get_top_tweets(df=tweets)"
   ]
  },
  {
   "cell_type": "code",
   "execution_count": 35,
   "metadata": {
    "pycharm": {
     "name": "#%%\n"
    }
   },
   "outputs": [],
   "source": [
    "# get top accounts tweeting about the event"
   ]
  },
  {
   "cell_type": "code",
   "execution_count": 36,
   "metadata": {
    "pycharm": {
     "name": "#%%\n"
    }
   },
   "outputs": [],
   "source": [
    "df = tweets.sort_values(by='followers_count', ascending=False)[['username','text','hashtags','context_annotations', 'description']][:15]"
   ]
  },
  {
   "cell_type": "code",
   "execution_count": 37,
   "metadata": {
    "pycharm": {
     "name": "#%%\n"
    }
   },
   "outputs": [
    {
     "data": {
      "text/html": [
       "<div>\n",
       "<style scoped>\n",
       "    .dataframe tbody tr th:only-of-type {\n",
       "        vertical-align: middle;\n",
       "    }\n",
       "\n",
       "    .dataframe tbody tr th {\n",
       "        vertical-align: top;\n",
       "    }\n",
       "\n",
       "    .dataframe thead th {\n",
       "        text-align: right;\n",
       "    }\n",
       "</style>\n",
       "<table border=\"1\" class=\"dataframe\">\n",
       "  <thead>\n",
       "    <tr style=\"text-align: right;\">\n",
       "      <th></th>\n",
       "      <th>username</th>\n",
       "      <th>text</th>\n",
       "      <th>hashtags</th>\n",
       "      <th>context_annotations</th>\n",
       "      <th>description</th>\n",
       "    </tr>\n",
       "  </thead>\n",
       "  <tbody>\n",
       "    <tr>\n",
       "      <th>2279</th>\n",
       "      <td>ndtv</td>\n",
       "      <td>RT @CricketNDTV: Shane Warne and Ricky Ponting...</td>\n",
       "      <td></td>\n",
       "      <td>NDTV, Business &amp; finance, Personal finance, Re...</td>\n",
       "      <td>Breaking news alerts from India.\\n\\nInstagram:...</td>\n",
       "    </tr>\n",
       "    <tr>\n",
       "      <th>2610</th>\n",
       "      <td>timesofindia</td>\n",
       "      <td>.@sachin_rt to pad up for an over by @EllysePe...</td>\n",
       "      <td>SachinTendulkar, EllysePerry, BushfireCricketB...</td>\n",
       "      <td>Sachin Tendulkar, Cricket, Sports</td>\n",
       "      <td>News. Views. Analysis. Conversations. India’s ...</td>\n",
       "    </tr>\n",
       "    <tr>\n",
       "      <th>4850</th>\n",
       "      <td>ABPNews</td>\n",
       "      <td>ऑस्ट्रेलिया के जंगलों में साल 2019-20 के दौरान...</td>\n",
       "      <td>AustraliaFire, Australia</td>\n",
       "      <td></td>\n",
       "      <td>Follow for latest news alerts from India.</td>\n",
       "    </tr>\n",
       "    <tr>\n",
       "      <th>1213</th>\n",
       "      <td>wef</td>\n",
       "      <td>5 global efforts to tackle Australian bushfire...</td>\n",
       "      <td>Australianbushfire, Australianfires</td>\n",
       "      <td></td>\n",
       "      <td>The international organization for public priv...</td>\n",
       "    </tr>\n",
       "    <tr>\n",
       "      <th>1594</th>\n",
       "      <td>ChinaDaily</td>\n",
       "      <td>Australia set up a national inquiry on Thursda...</td>\n",
       "      <td>AustraliaFire</td>\n",
       "      <td></td>\n",
       "      <td>Start a conversation as we share news and anal...</td>\n",
       "    </tr>\n",
       "    <tr>\n",
       "      <th>1593</th>\n",
       "      <td>ChinaDaily</td>\n",
       "      <td>An investigation has been launched after a dis...</td>\n",
       "      <td>koalas, AustralianBushfire, AustraliaFires</td>\n",
       "      <td></td>\n",
       "      <td>Start a conversation as we share news and anal...</td>\n",
       "    </tr>\n",
       "    <tr>\n",
       "      <th>846</th>\n",
       "      <td>DDNewslive</td>\n",
       "      <td>Soaring temperatures and strong winds stoked u...</td>\n",
       "      <td>AustralianBushfire</td>\n",
       "      <td></td>\n",
       "      <td>Official Twitter account of DD News, the Publi...</td>\n",
       "    </tr>\n",
       "    <tr>\n",
       "      <th>3574</th>\n",
       "      <td>RondaRousey</td>\n",
       "      <td>RT @RRouseydotcom: The \"Baddest Stream on The ...</td>\n",
       "      <td></td>\n",
       "      <td>Ronda Rousey</td>\n",
       "      <td>https://t.co/k7rfxycPJY</td>\n",
       "    </tr>\n",
       "    <tr>\n",
       "      <th>2264</th>\n",
       "      <td>indiatvnews</td>\n",
       "      <td>Video: एक बार फिर क्रिकेट के मैदान में उतरेंगे...</td>\n",
       "      <td>AustralianBushfire</td>\n",
       "      <td>Entertainment, TV/Movies Related - Entertainme...</td>\n",
       "      <td>India’s most watched Hindi News Channel. Follo...</td>\n",
       "    </tr>\n",
       "    <tr>\n",
       "      <th>4941</th>\n",
       "      <td>ThanthiTV</td>\n",
       "      <td>ஆஸ்திரேலியாவில் பயங்கர காட்டுத் தீ - தீயை அணைக...</td>\n",
       "      <td>Australia, AustraliaFire</td>\n",
       "      <td></td>\n",
       "      <td>Thanthi TV is a Chennai based Tamil News Chann...</td>\n",
       "    </tr>\n",
       "    <tr>\n",
       "      <th>2282</th>\n",
       "      <td>CricketNDTV</td>\n",
       "      <td>Shane Warne and Ricky Ponting were due to come...</td>\n",
       "      <td>AustralianBushfire</td>\n",
       "      <td>Business &amp; finance, Personal finance, Retireme...</td>\n",
       "      <td>Catch all the latest news from the world of Cr...</td>\n",
       "    </tr>\n",
       "    <tr>\n",
       "      <th>860</th>\n",
       "      <td>weathernetwork</td>\n",
       "      <td>Firefighters in New South Wales recently relea...</td>\n",
       "      <td>AustralianBushfire, NSWfires</td>\n",
       "      <td></td>\n",
       "      <td>Canada's #1 source for weather forecasts, news...</td>\n",
       "    </tr>\n",
       "    <tr>\n",
       "      <th>2614</th>\n",
       "      <td>toisports</td>\n",
       "      <td>.@sachin_rt to pad up for an over by @EllysePe...</td>\n",
       "      <td>SachinTendulkar, EllysePerry, BushfireCricketB...</td>\n",
       "      <td>Sachin Tendulkar, Cricket, Sports</td>\n",
       "      <td>The top destination for all the major sports n...</td>\n",
       "    </tr>\n",
       "    <tr>\n",
       "      <th>1200</th>\n",
       "      <td>AngelaRayner</td>\n",
       "      <td>RT @StPetersAshton: Today we were visited by M...</td>\n",
       "      <td></td>\n",
       "      <td>Angela Rayner, José Antonio Meade, Politics, P...</td>\n",
       "      <td>MP for Ashton under Lyne | Deputy Leader @UKLa...</td>\n",
       "    </tr>\n",
       "    <tr>\n",
       "      <th>2280</th>\n",
       "      <td>Sports_NDTV</td>\n",
       "      <td>RT @CricketNDTV: Shane Warne and Ricky Ponting...</td>\n",
       "      <td></td>\n",
       "      <td>Business &amp; finance, Personal finance, Retireme...</td>\n",
       "      <td>NDTVSports is the ultimate destination for Spo...</td>\n",
       "    </tr>\n",
       "  </tbody>\n",
       "</table>\n",
       "</div>"
      ],
      "text/plain": [
       "            username                                               text   \n",
       "2279            ndtv  RT @CricketNDTV: Shane Warne and Ricky Ponting...  \\\n",
       "2610    timesofindia  .@sachin_rt to pad up for an over by @EllysePe...   \n",
       "4850         ABPNews  ऑस्ट्रेलिया के जंगलों में साल 2019-20 के दौरान...   \n",
       "1213             wef  5 global efforts to tackle Australian bushfire...   \n",
       "1594      ChinaDaily  Australia set up a national inquiry on Thursda...   \n",
       "1593      ChinaDaily  An investigation has been launched after a dis...   \n",
       "846       DDNewslive  Soaring temperatures and strong winds stoked u...   \n",
       "3574     RondaRousey  RT @RRouseydotcom: The \"Baddest Stream on The ...   \n",
       "2264     indiatvnews  Video: एक बार फिर क्रिकेट के मैदान में उतरेंगे...   \n",
       "4941       ThanthiTV  ஆஸ்திரேலியாவில் பயங்கர காட்டுத் தீ - தீயை அணைக...   \n",
       "2282     CricketNDTV  Shane Warne and Ricky Ponting were due to come...   \n",
       "860   weathernetwork  Firefighters in New South Wales recently relea...   \n",
       "2614       toisports  .@sachin_rt to pad up for an over by @EllysePe...   \n",
       "1200    AngelaRayner  RT @StPetersAshton: Today we were visited by M...   \n",
       "2280     Sports_NDTV  RT @CricketNDTV: Shane Warne and Ricky Ponting...   \n",
       "\n",
       "                                               hashtags   \n",
       "2279                                                     \\\n",
       "2610  SachinTendulkar, EllysePerry, BushfireCricketB...   \n",
       "4850                           AustraliaFire, Australia   \n",
       "1213                Australianbushfire, Australianfires   \n",
       "1594                                      AustraliaFire   \n",
       "1593         koalas, AustralianBushfire, AustraliaFires   \n",
       "846                                  AustralianBushfire   \n",
       "3574                                                      \n",
       "2264                                 AustralianBushfire   \n",
       "4941                           Australia, AustraliaFire   \n",
       "2282                                 AustralianBushfire   \n",
       "860                        AustralianBushfire, NSWfires   \n",
       "2614  SachinTendulkar, EllysePerry, BushfireCricketB...   \n",
       "1200                                                      \n",
       "2280                                                      \n",
       "\n",
       "                                    context_annotations   \n",
       "2279  NDTV, Business & finance, Personal finance, Re...  \\\n",
       "2610                  Sachin Tendulkar, Cricket, Sports   \n",
       "4850                                                      \n",
       "1213                                                      \n",
       "1594                                                      \n",
       "1593                                                      \n",
       "846                                                       \n",
       "3574                                       Ronda Rousey   \n",
       "2264  Entertainment, TV/Movies Related - Entertainme...   \n",
       "4941                                                      \n",
       "2282  Business & finance, Personal finance, Retireme...   \n",
       "860                                                       \n",
       "2614                  Sachin Tendulkar, Cricket, Sports   \n",
       "1200  Angela Rayner, José Antonio Meade, Politics, P...   \n",
       "2280  Business & finance, Personal finance, Retireme...   \n",
       "\n",
       "                                            description  \n",
       "2279  Breaking news alerts from India.\\n\\nInstagram:...  \n",
       "2610  News. Views. Analysis. Conversations. India’s ...  \n",
       "4850          Follow for latest news alerts from India.  \n",
       "1213  The international organization for public priv...  \n",
       "1594  Start a conversation as we share news and anal...  \n",
       "1593  Start a conversation as we share news and anal...  \n",
       "846   Official Twitter account of DD News, the Publi...  \n",
       "3574                            https://t.co/k7rfxycPJY  \n",
       "2264  India’s most watched Hindi News Channel. Follo...  \n",
       "4941  Thanthi TV is a Chennai based Tamil News Chann...  \n",
       "2282  Catch all the latest news from the world of Cr...  \n",
       "860   Canada's #1 source for weather forecasts, news...  \n",
       "2614  The top destination for all the major sports n...  \n",
       "1200  MP for Ashton under Lyne | Deputy Leader @UKLa...  \n",
       "2280  NDTVSports is the ultimate destination for Spo...  "
      ]
     },
     "execution_count": 37,
     "metadata": {},
     "output_type": "execute_result"
    }
   ],
   "source": [
    "df"
   ]
  },
  {
   "cell_type": "code",
   "execution_count": 38,
   "metadata": {
    "pycharm": {
     "name": "#%%\n"
    }
   },
   "outputs": [],
   "source": [
    "# Hashtags used by these top accounts"
   ]
  },
  {
   "cell_type": "code",
   "execution_count": 39,
   "metadata": {
    "pycharm": {
     "name": "#%%\n"
    }
   },
   "outputs": [],
   "source": [
    "hashtags_top_user = get_count(df,'hashtags')"
   ]
  },
  {
   "cell_type": "code",
   "execution_count": 40,
   "metadata": {
    "pycharm": {
     "name": "#%%\n"
    }
   },
   "outputs": [
    {
     "data": {
      "image/png": "[encoded data removed]",
      "text/plain": [
       "<Figure size 1000x500 with 1 Axes>"
      ]
     },
     "metadata": {},
     "output_type": "display_data"
    }
   ],
   "source": [
    "fig, ax = plt.subplots(1, 1, figsize=(10, 5))\n",
    "ax.pie(hashtags_top_user.values(), labels=hashtags_top_user.keys(), autopct='%.0f%%', shadow=False,\n",
    "       textprops={'size': 'smaller'}, )\n",
    "plt.suptitle(f'hashtags used by top user accounts'.upper())\n",
    "plt.tight_layout()\n",
    "plt.savefig(f'{location}_hashtags_top_verified_users.png', bbox_inches='tight', dpi=300)\n",
    "plt.show()"
   ]
  },
  {
   "cell_type": "code",
   "execution_count": null,
   "metadata": {
    "pycharm": {
     "name": "#%%\n"
    }
   },
   "outputs": [],
   "source": []
  }
 ],
 "metadata": {
  "kernelspec": {
   "display_name": "Python 3 (ipykernel)",
   "language": "python",
   "name": "python3"
  },
  "language_info": {
   "codemirror_mode": {
    "name": "ipython",
    "version": 3
   },
   "file_extension": ".py",
   "mimetype": "text/x-python",
   "name": "python",
   "nbconvert_exporter": "python",
   "pygments_lexer": "ipython3",
   "version": "3.9.6"
  }
 },
 "nbformat": 4,
 "nbformat_minor": 1
}
