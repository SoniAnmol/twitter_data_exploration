{
 "cells": [
  {
   "cell_type": "markdown",
   "source": [
    "# Data Cleaning\n",
    "This notebook cleans the data scraped from twitter"
   ],
   "metadata": {
    "collapsed": false,
    "pycharm": {
     "name": "#%% md\n"
    }
   }
  },
  {
   "cell_type": "code",
   "execution_count": 1,
   "outputs": [],
   "source": [
    "# import libraries\n",
    "import json\n",
    "import pandas as pd"
   ],
   "metadata": {
    "collapsed": false,
    "pycharm": {
     "name": "#%%\n"
    }
   }
  },
  {
   "cell_type": "markdown",
   "source": [
    "TODO:\n",
    "1. Get tweets file for mumbai\n",
    "2. Get tweets and users file for brazil"
   ],
   "metadata": {
    "collapsed": false,
    "pycharm": {
     "name": "#%% md\n"
    }
   }
  },
  {
   "cell_type": "code",
   "execution_count": 23,
   "outputs": [],
   "source": [
    "def read_json(file_name):\n",
    "    \"\"\"This function reads the json file\"\"\"\n",
    "    # Opening JSON file\n",
    "    file = open(file_name)\n",
    "    # returns JSON object as a dictionary\n",
    "    data = json.load(file)\n",
    "    # Closing file\n",
    "    file.close()\n",
    "    return data"
   ],
   "metadata": {
    "collapsed": false,
    "pycharm": {
     "name": "#%%\n"
    }
   }
  },
  {
   "cell_type": "code",
   "execution_count": 34,
   "outputs": [],
   "source": [
    "# select the location to perform cleaning operation\n",
    "locations = ['australia', 'joshimath', 'mumbai', 'north_america']\n",
    "location = 'mumbai'"
   ],
   "metadata": {
    "collapsed": false,
    "pycharm": {
     "name": "#%%\n"
    }
   }
  },
  {
   "cell_type": "code",
   "execution_count": 36,
   "outputs": [],
   "source": [
    "# read files\n",
    "tweets = read_json(f'../data/raw/{location}/tweets.json')\n",
    "users = read_json(f'../data/raw/{location}/users.json')\n",
    "\n",
    "# convert dict to DataFrame\n",
    "tweets = pd.DataFrame.from_dict(tweets)\n",
    "users = pd.DataFrame.from_dict(users)"
   ],
   "metadata": {
    "collapsed": false,
    "pycharm": {
     "name": "#%%\n"
    }
   }
  },
  {
   "cell_type": "code",
   "execution_count": 32,
   "outputs": [
    {
     "data": {
      "text/plain": "                                                text   \n0  RT @wxbrad: 123° at 2pm local which is 6° hott...  \\\n1  RT @wxbrad: 123° at 2pm local which is 6° hott...   \n2  123° at 2pm local which is 6° hotter than the ...   \n3  RT @breakingweather: While an intense heat wav...   \n4  RT @LeonieGreene: If you think it's hot here.....   \n\n                                      public_metrics   \n0  {'retweet_count': 2, 'reply_count': 0, 'like_c...  \\\n1  {'retweet_count': 2, 'reply_count': 0, 'like_c...   \n2  {'retweet_count': 2, 'reply_count': 4, 'like_c...   \n3  {'retweet_count': 15, 'reply_count': 0, 'like_...   \n4  {'retweet_count': 6, 'reply_count': 0, 'like_c...   \n\n                                   referenced_tweets   \n0  [{'type': 'retweeted', 'id': '1405277280343977...  \\\n1  [{'type': 'retweeted', 'id': '1405277280343977...   \n2                                                 {}   \n3  [{'type': 'retweeted', 'id': '1405004765919072...   \n4  [{'type': 'retweeted', 'id': '1405190942643130...   \n\n                                            entities      conversation_id   \n0  {'mentions': [{'start': 3, 'end': 10, 'usernam...  1405280589310087179  \\\n1  {'mentions': [{'start': 3, 'end': 10, 'usernam...  1405277895010914305   \n2  {'mentions': {}, 'annotations': [{'start': 69,...  1405277280343977986   \n3  {'mentions': [{'start': 3, 'end': 19, 'usernam...  1405203115448713223   \n4  {'mentions': [{'start': 3, 'end': 16, 'usernam...  1405193457497411587   \n\n  lang                created_at edit_history_tweet_ids  possibly_sensitive   \n0   en  2021-06-16T21:46:15.000Z  [1405280589310087179]               False  \\\n1   en  2021-06-16T21:35:33.000Z  [1405277895010914305]               False   \n2   en  2021-06-16T21:33:07.000Z  [1405277280343977986]               False   \n3   en  2021-06-16T16:38:24.000Z  [1405203115448713223]               False   \n4   en  2021-06-16T16:00:02.000Z  [1405193457497411587]               False   \n\n            author_id                   id   \n0  832311020324581376  1405280589310087179  \\\n1            22295987  1405277895010914305   \n2            22215485  1405277280343977986   \n3            62147616  1405203115448713223   \n4           251622947  1405193457497411587   \n\n                                         attachments   \n0                 {'media_keys': {}, 'poll_ids': {}}  \\\n1                 {'media_keys': {}, 'poll_ids': {}}   \n2  {'media_keys': ['3_1405276807994044422', '3_14...   \n3                 {'media_keys': {}, 'poll_ids': {}}   \n4                 {'media_keys': {}, 'poll_ids': {}}   \n\n                                 context_annotations   \n0                                                 {}  \\\n1                                                 {}   \n2                                                 {}   \n3                                                 {}   \n4  [{'domain': {'id': '47', 'name': 'Brand', 'des...   \n\n                                    geo               withheld   \n0  {'coordinates': {'coordinates': {}}}  {'country_codes': {}}  \\\n1  {'coordinates': {'coordinates': {}}}  {'country_codes': {}}   \n2  {'coordinates': {'coordinates': {}}}  {'country_codes': {}}   \n3  {'coordinates': {'coordinates': {}}}  {'country_codes': {}}   \n4  {'coordinates': {'coordinates': {}}}  {'country_codes': {}}   \n\n  in_reply_to_user_id  \n0                 NaN  \n1                 NaN  \n2                 NaN  \n3                 NaN  \n4                 NaN  ",
      "text/html": "<div>\n<style scoped>\n    .dataframe tbody tr th:only-of-type {\n        vertical-align: middle;\n    }\n\n    .dataframe tbody tr th {\n        vertical-align: top;\n    }\n\n    .dataframe thead th {\n        text-align: right;\n    }\n</style>\n<table border=\"1\" class=\"dataframe\">\n  <thead>\n    <tr style=\"text-align: right;\">\n      <th></th>\n      <th>text</th>\n      <th>public_metrics</th>\n      <th>referenced_tweets</th>\n      <th>entities</th>\n      <th>conversation_id</th>\n      <th>lang</th>\n      <th>created_at</th>\n      <th>edit_history_tweet_ids</th>\n      <th>possibly_sensitive</th>\n      <th>author_id</th>\n      <th>id</th>\n      <th>attachments</th>\n      <th>context_annotations</th>\n      <th>geo</th>\n      <th>withheld</th>\n      <th>in_reply_to_user_id</th>\n    </tr>\n  </thead>\n  <tbody>\n    <tr>\n      <th>0</th>\n      <td>RT @wxbrad: 123° at 2pm local which is 6° hott...</td>\n      <td>{'retweet_count': 2, 'reply_count': 0, 'like_c...</td>\n      <td>[{'type': 'retweeted', 'id': '1405277280343977...</td>\n      <td>{'mentions': [{'start': 3, 'end': 10, 'usernam...</td>\n      <td>1405280589310087179</td>\n      <td>en</td>\n      <td>2021-06-16T21:46:15.000Z</td>\n      <td>[1405280589310087179]</td>\n      <td>False</td>\n      <td>832311020324581376</td>\n      <td>1405280589310087179</td>\n      <td>{'media_keys': {}, 'poll_ids': {}}</td>\n      <td>{}</td>\n      <td>{'coordinates': {'coordinates': {}}}</td>\n      <td>{'country_codes': {}}</td>\n      <td>NaN</td>\n    </tr>\n    <tr>\n      <th>1</th>\n      <td>RT @wxbrad: 123° at 2pm local which is 6° hott...</td>\n      <td>{'retweet_count': 2, 'reply_count': 0, 'like_c...</td>\n      <td>[{'type': 'retweeted', 'id': '1405277280343977...</td>\n      <td>{'mentions': [{'start': 3, 'end': 10, 'usernam...</td>\n      <td>1405277895010914305</td>\n      <td>en</td>\n      <td>2021-06-16T21:35:33.000Z</td>\n      <td>[1405277895010914305]</td>\n      <td>False</td>\n      <td>22295987</td>\n      <td>1405277895010914305</td>\n      <td>{'media_keys': {}, 'poll_ids': {}}</td>\n      <td>{}</td>\n      <td>{'coordinates': {'coordinates': {}}}</td>\n      <td>{'country_codes': {}}</td>\n      <td>NaN</td>\n    </tr>\n    <tr>\n      <th>2</th>\n      <td>123° at 2pm local which is 6° hotter than the ...</td>\n      <td>{'retweet_count': 2, 'reply_count': 4, 'like_c...</td>\n      <td>{}</td>\n      <td>{'mentions': {}, 'annotations': [{'start': 69,...</td>\n      <td>1405277280343977986</td>\n      <td>en</td>\n      <td>2021-06-16T21:33:07.000Z</td>\n      <td>[1405277280343977986]</td>\n      <td>False</td>\n      <td>22215485</td>\n      <td>1405277280343977986</td>\n      <td>{'media_keys': ['3_1405276807994044422', '3_14...</td>\n      <td>{}</td>\n      <td>{'coordinates': {'coordinates': {}}}</td>\n      <td>{'country_codes': {}}</td>\n      <td>NaN</td>\n    </tr>\n    <tr>\n      <th>3</th>\n      <td>RT @breakingweather: While an intense heat wav...</td>\n      <td>{'retweet_count': 15, 'reply_count': 0, 'like_...</td>\n      <td>[{'type': 'retweeted', 'id': '1405004765919072...</td>\n      <td>{'mentions': [{'start': 3, 'end': 19, 'usernam...</td>\n      <td>1405203115448713223</td>\n      <td>en</td>\n      <td>2021-06-16T16:38:24.000Z</td>\n      <td>[1405203115448713223]</td>\n      <td>False</td>\n      <td>62147616</td>\n      <td>1405203115448713223</td>\n      <td>{'media_keys': {}, 'poll_ids': {}}</td>\n      <td>{}</td>\n      <td>{'coordinates': {'coordinates': {}}}</td>\n      <td>{'country_codes': {}}</td>\n      <td>NaN</td>\n    </tr>\n    <tr>\n      <th>4</th>\n      <td>RT @LeonieGreene: If you think it's hot here.....</td>\n      <td>{'retweet_count': 6, 'reply_count': 0, 'like_c...</td>\n      <td>[{'type': 'retweeted', 'id': '1405190942643130...</td>\n      <td>{'mentions': [{'start': 3, 'end': 16, 'usernam...</td>\n      <td>1405193457497411587</td>\n      <td>en</td>\n      <td>2021-06-16T16:00:02.000Z</td>\n      <td>[1405193457497411587]</td>\n      <td>False</td>\n      <td>251622947</td>\n      <td>1405193457497411587</td>\n      <td>{'media_keys': {}, 'poll_ids': {}}</td>\n      <td>[{'domain': {'id': '47', 'name': 'Brand', 'des...</td>\n      <td>{'coordinates': {'coordinates': {}}}</td>\n      <td>{'country_codes': {}}</td>\n      <td>NaN</td>\n    </tr>\n  </tbody>\n</table>\n</div>"
     },
     "execution_count": 32,
     "metadata": {},
     "output_type": "execute_result"
    }
   ],
   "source": [
    "tweets.head()"
   ],
   "metadata": {
    "collapsed": false,
    "pycharm": {
     "name": "#%%\n"
    }
   }
  },
  {
   "cell_type": "code",
   "execution_count": 37,
   "outputs": [
    {
     "data": {
      "text/plain": "                     name                created_at   \n0                    かみやん  2017-08-23T16:55:45.000Z  \\\n1         Cyclist（サイクリスト）  2012-06-26T06:23:05.000Z   \n2               Investors  2010-08-19T02:12:50.000Z   \n3              TOI Cities  2009-04-13T11:14:45.000Z   \n4  claudia!! 🌟 comms open  2015-05-18T21:10:00.000Z   \n\n                                   profile_image_url  protected   \n0  https://pbs.twimg.com/profile_images/110629666...      False  \\\n1  https://pbs.twimg.com/profile_images/529827574...      False   \n2  https://pbs.twimg.com/profile_images/127044319...      False   \n3  https://pbs.twimg.com/profile_images/906649119...      False   \n4  https://pbs.twimg.com/profile_images/158211989...      False   \n\n                   id      location      pinned_tweet_id   \n0  900401183893762048  全てを賭ける覚悟はある？  1155600868898529280  \\\n1           618797935         JAPAN                  NaN   \n2           180206167           NaN                  NaN   \n3            30846824           NaN  1559499012683677697   \n4          3289073692      savannah  1593795917110444037   \n\n                                      public_metrics   \n0  {'followers_count': 60, 'following_count': 98,...  \\\n1  {'followers_count': 40575, 'following_count': ...   \n2  {'followers_count': 2, 'following_count': 0, '...   \n3  {'followers_count': 27864, 'following_count': ...   \n4  {'followers_count': 958, 'following_count': 80...   \n\n                                         description  verified   \n0                   GIANT→BMC→AVENTON→GIOS→ピスト組みました。     False  \\\n1    YouTubeチャンネル「サイクリストTV」をはじめ、サイクリングにまつわる情報を発信します。      True   \n2                                                        False   \n3  Unmatched coverage from over 60 cities across ...      True   \n4  sequential major at SCAD! storyboard artist. 2...     False   \n\n          username                                           entities   \n0     kurumi_slr03  {'url': {'urls': {}}, 'description': {'urls': ...  \\\n1   cyclist_sanspo  {'url': {'urls': [{'start': 0, 'end': 23, 'url...   \n2  businessinvesto  {'url': {'urls': {}}, 'description': {'urls': ...   \n3    TOICitiesNews  {'url': {'urls': [{'start': 0, 'end': 23, 'url...   \n4         leafduds  {'url': {'urls': [{'start': 0, 'end': 23, 'url...   \n\n                withheld                      url  \n0  {'country_codes': {}}                      NaN  \n1  {'country_codes': {}}  https://t.co/tujMkvmlAm  \n2  {'country_codes': {}}                      NaN  \n3  {'country_codes': {}}  https://t.co/JcPDiuuhoz  \n4  {'country_codes': {}}  https://t.co/m2yPbEIDOJ  ",
      "text/html": "<div>\n<style scoped>\n    .dataframe tbody tr th:only-of-type {\n        vertical-align: middle;\n    }\n\n    .dataframe tbody tr th {\n        vertical-align: top;\n    }\n\n    .dataframe thead th {\n        text-align: right;\n    }\n</style>\n<table border=\"1\" class=\"dataframe\">\n  <thead>\n    <tr style=\"text-align: right;\">\n      <th></th>\n      <th>name</th>\n      <th>created_at</th>\n      <th>profile_image_url</th>\n      <th>protected</th>\n      <th>id</th>\n      <th>location</th>\n      <th>pinned_tweet_id</th>\n      <th>public_metrics</th>\n      <th>description</th>\n      <th>verified</th>\n      <th>username</th>\n      <th>entities</th>\n      <th>withheld</th>\n      <th>url</th>\n    </tr>\n  </thead>\n  <tbody>\n    <tr>\n      <th>0</th>\n      <td>かみやん</td>\n      <td>2017-08-23T16:55:45.000Z</td>\n      <td>https://pbs.twimg.com/profile_images/110629666...</td>\n      <td>False</td>\n      <td>900401183893762048</td>\n      <td>全てを賭ける覚悟はある？</td>\n      <td>1155600868898529280</td>\n      <td>{'followers_count': 60, 'following_count': 98,...</td>\n      <td>GIANT→BMC→AVENTON→GIOS→ピスト組みました。</td>\n      <td>False</td>\n      <td>kurumi_slr03</td>\n      <td>{'url': {'urls': {}}, 'description': {'urls': ...</td>\n      <td>{'country_codes': {}}</td>\n      <td>NaN</td>\n    </tr>\n    <tr>\n      <th>1</th>\n      <td>Cyclist（サイクリスト）</td>\n      <td>2012-06-26T06:23:05.000Z</td>\n      <td>https://pbs.twimg.com/profile_images/529827574...</td>\n      <td>False</td>\n      <td>618797935</td>\n      <td>JAPAN</td>\n      <td>NaN</td>\n      <td>{'followers_count': 40575, 'following_count': ...</td>\n      <td>YouTubeチャンネル「サイクリストTV」をはじめ、サイクリングにまつわる情報を発信します。</td>\n      <td>True</td>\n      <td>cyclist_sanspo</td>\n      <td>{'url': {'urls': [{'start': 0, 'end': 23, 'url...</td>\n      <td>{'country_codes': {}}</td>\n      <td>https://t.co/tujMkvmlAm</td>\n    </tr>\n    <tr>\n      <th>2</th>\n      <td>Investors</td>\n      <td>2010-08-19T02:12:50.000Z</td>\n      <td>https://pbs.twimg.com/profile_images/127044319...</td>\n      <td>False</td>\n      <td>180206167</td>\n      <td>NaN</td>\n      <td>NaN</td>\n      <td>{'followers_count': 2, 'following_count': 0, '...</td>\n      <td></td>\n      <td>False</td>\n      <td>businessinvesto</td>\n      <td>{'url': {'urls': {}}, 'description': {'urls': ...</td>\n      <td>{'country_codes': {}}</td>\n      <td>NaN</td>\n    </tr>\n    <tr>\n      <th>3</th>\n      <td>TOI Cities</td>\n      <td>2009-04-13T11:14:45.000Z</td>\n      <td>https://pbs.twimg.com/profile_images/906649119...</td>\n      <td>False</td>\n      <td>30846824</td>\n      <td>NaN</td>\n      <td>1559499012683677697</td>\n      <td>{'followers_count': 27864, 'following_count': ...</td>\n      <td>Unmatched coverage from over 60 cities across ...</td>\n      <td>True</td>\n      <td>TOICitiesNews</td>\n      <td>{'url': {'urls': [{'start': 0, 'end': 23, 'url...</td>\n      <td>{'country_codes': {}}</td>\n      <td>https://t.co/JcPDiuuhoz</td>\n    </tr>\n    <tr>\n      <th>4</th>\n      <td>claudia!! 🌟 comms open</td>\n      <td>2015-05-18T21:10:00.000Z</td>\n      <td>https://pbs.twimg.com/profile_images/158211989...</td>\n      <td>False</td>\n      <td>3289073692</td>\n      <td>savannah</td>\n      <td>1593795917110444037</td>\n      <td>{'followers_count': 958, 'following_count': 80...</td>\n      <td>sequential major at SCAD! storyboard artist. 2...</td>\n      <td>False</td>\n      <td>leafduds</td>\n      <td>{'url': {'urls': [{'start': 0, 'end': 23, 'url...</td>\n      <td>{'country_codes': {}}</td>\n      <td>https://t.co/m2yPbEIDOJ</td>\n    </tr>\n  </tbody>\n</table>\n</div>"
     },
     "execution_count": 37,
     "metadata": {},
     "output_type": "execute_result"
    }
   ],
   "source": [
    "users.head()"
   ],
   "metadata": {
    "collapsed": false,
    "pycharm": {
     "name": "#%%\n"
    }
   }
  },
  {
   "cell_type": "code",
   "execution_count": 7,
   "outputs": [],
   "source": [
    "# rename column names for coherence\n",
    "users.rename(columns={'id':'author_id', 'public_metrics':'author_metrics', 'created_at':'account_created', 'entities':'author_entities', 'location':'account-location', 'url':'author_url'}, inplace=True)\n",
    "\n",
    "# drop duplicates\n",
    "users.drop_duplicates(subset=['author_id'], keep='first', inplace=True)\n",
    "tweets.drop_duplicates(subset=['id'], keep='first', inplace=True)\n",
    "\n",
    "# merge tweets and user data\n",
    "df = pd.merge(left=tweets, right=users, on='author_id', right_index=False)"
   ],
   "metadata": {
    "collapsed": false,
    "pycharm": {
     "name": "#%%\n"
    }
   }
  },
  {
   "cell_type": "code",
   "execution_count": 16,
   "outputs": [],
   "source": [
    "# Export the json\n",
    "df.to_json(f'../data/cleaned/{location}_tweets.json')"
   ],
   "metadata": {
    "collapsed": false,
    "pycharm": {
     "name": "#%%\n"
    }
   }
  },
  {
   "cell_type": "code",
   "execution_count": 12,
   "outputs": [
    {
     "name": "stdout",
     "output_type": "stream",
     "text": [
      "381740 unique tweets and overall 383059 tweets cleaned and saved for australia\n"
     ]
    }
   ],
   "source": [
    "print(f\"{len(df['conversation_id'].unique())} unique tweets and overall {len(df)} tweets cleaned for {location}\")"
   ],
   "metadata": {
    "collapsed": false,
    "pycharm": {
     "name": "#%%\n"
    }
   }
  }
 ],
 "metadata": {
  "kernelspec": {
   "display_name": "Python 3",
   "language": "python",
   "name": "python3"
  },
  "language_info": {
   "codemirror_mode": {
    "name": "ipython",
    "version": 2
   },
   "file_extension": ".py",
   "mimetype": "text/x-python",
   "name": "python",
   "nbconvert_exporter": "python",
   "pygments_lexer": "ipython2",
   "version": "2.7.6"
  }
 },
 "nbformat": 4,
 "nbformat_minor": 0
}